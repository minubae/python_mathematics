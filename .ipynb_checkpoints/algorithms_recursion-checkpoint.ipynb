{
 "cells": [
  {
   "cell_type": "markdown",
   "metadata": {},
   "source": [
    "# 05. Mathematical Algorithms - Recursion\n",
    "- Title: Mathematical Algorithms - Recursion in Python\n",
    "- Date: Oct/06/2015, Tuesday - Current\n",
    "- Author: Minwoo Bae (minubae.nyc@gmail.com)\n",
    "- Reference: http://wphooper.com/teaching/2015-fall-308/python/Recursion.html"
   ]
  },
  {
   "cell_type": "markdown",
   "metadata": {},
   "source": [
    "## Recursion\n",
    "Recursion is the process of repeating items in a self-similar way. For instance, when the surfaces of two mirrors are exactly parallel with each other, the nested images that occur are a form of infinite recursion. The term has a variety of meanings specific to a variety of disciplines ranging from linguistics to logic. The most common application of recursion is in mathematics and computer science, in which it refers to a method of defining functions in which the function being defined is applied within its own definition. Specifically, this defines an infinite number of instances (function values), using a finite expression that for some instances may refer to other instances, but in such a way that no loop or infinite chain of references can occur. The term is also used more generally to describe a process of repeating objects in a self-similar way.\n",
    "\n",
    "### Formal definitions \n",
    "In mathematics and computer science, a class of objects or methods exhibit recursive behavior when they can be defined by two properties:\n",
    "\n",
    "- A simple base case (or cases)—a terminating scenario that does not use recursion to produce an answer\n",
    "- A set of rules that reduce all other cases toward the base case\n",
    "\n",
    "For example, the following is a recursive definition of a person's ancestors:\n",
    "\n",
    "- One's parents are one's ancestors (base case).\n",
    "- The ancestors of one's ancestors are also one's ancestors (recursion step)."
   ]
  },
  {
   "cell_type": "code",
   "execution_count": 4,
   "metadata": {
    "collapsed": true
   },
   "outputs": [],
   "source": [
    "# One thing to be wary of is that a function that calls itself can potentially go into an infinite loop. \n",
    "# For example the simplest possible recursive function is a total disaster because it does not terminate:\n",
    "def dont_call_me():\n",
    "    dont_call_me()"
   ]
  },
  {
   "cell_type": "code",
   "execution_count": 5,
   "metadata": {
    "collapsed": true
   },
   "outputs": [],
   "source": [
    "# To solve this problem, your function needs to make sure that every case eventually reaches a base case \n",
    "# in which the function does not call itself. Here is a simple recursive function that does terminate \n",
    "# (as long as n is a small integer.)\n",
    "def call_me(n):\n",
    "    if n<=0:\n",
    "        print(\"Reached base case of n=\",n)\n",
    "    else:\n",
    "        print(\"Function called with n=\", n)\n",
    "        call_me(n-1)\n",
    "    print(\"Exiting call of function with n=\", n)"
   ]
  },
  {
   "cell_type": "code",
   "execution_count": 6,
   "metadata": {
    "collapsed": false
   },
   "outputs": [
    {
     "name": "stdout",
     "output_type": "stream",
     "text": [
      "Function called with n= 5\n",
      "Function called with n= 4\n",
      "Function called with n= 3\n",
      "Function called with n= 2\n",
      "Function called with n= 1\n",
      "Reached base case of n= 0\n",
      "Exiting call of function with n= 0\n",
      "Exiting call of function with n= 1\n",
      "Exiting call of function with n= 2\n",
      "Exiting call of function with n= 3\n",
      "Exiting call of function with n= 4\n",
      "Exiting call of function with n= 5\n"
     ]
    }
   ],
   "source": [
    "# Below, I call this function. Can you figure out what is happening?\n",
    "call_me(5) "
   ]
  },
  {
   "cell_type": "markdown",
   "metadata": {},
   "source": [
    "## Examples"
   ]
  },
  {
   "cell_type": "markdown",
   "metadata": {},
   "source": [
    "##01) Factorial \n",
    "The factorial operation is usually defined inductively by $0!=1$ and $n!=n∗(n−1)!$ for integers $n≥1.$ This translates into the following function definition: "
   ]
  },
  {
   "cell_type": "code",
   "execution_count": 7,
   "metadata": {
    "collapsed": true
   },
   "outputs": [],
   "source": [
    "def factorial(n):\n",
    "    if n==0:\n",
    "        return 1\n",
    "    return n*factorial(n-1)"
   ]
  },
  {
   "cell_type": "code",
   "execution_count": 8,
   "metadata": {
    "collapsed": false
   },
   "outputs": [
    {
     "name": "stdout",
     "output_type": "stream",
     "text": [
      "0! = 1.\n",
      "1! = 1.\n",
      "2! = 2.\n",
      "3! = 6.\n",
      "4! = 24.\n",
      "5! = 120.\n",
      "6! = 720.\n"
     ]
    }
   ],
   "source": [
    "for n in range(7):\n",
    "    print(n, \"! = \", factorial(n), \".\", sep=\"\")"
   ]
  },
  {
   "cell_type": "markdown",
   "metadata": {},
   "source": [
    "##02) Pascal's triangle\n",
    "Consider a polynomial $p(t)=a_{k}t^k+a_{k−1}t^{k−1}+\\dots+a_{1}t+a_0.$ Observe that\n",
    "\n",
    "$$(t+1)p(t)=a_{k}t^{k+1}+(a_k+a_{k−1})t^k+(a_{k−1}+a_{k−2})t^{k−1}+\\dots+(a_0+a_1)t+a_0.$$\n",
    " \n",
    "We can define a sequence of polynomials by $q0=1$ and inductively defining  q_{n+1}(t)=(t+1)q_{n}(t) for integers $n\\geq0.$ Then each $q_{n}(t)$ is a polynomial of degree $n.$ We define a_{n,k} to be the coefficient of the  $t^k$ term of the polynomial $q_n(t).$ When arranged into a rectangular array, these numbers are known as Pascal's triangle.\n",
    "\n",
    "<b>Problem:</b> Write a recursive function pascals_triangle(n,k) which returns  a_{n,k} when provided an integer  n≥0n≥0  and an integer  kk  satisfying 0≤k≤n0≤k≤n.\n",
    "\n",
    "To do this, first observe that the constant term of  qn(t)qn(t)  is always one, as is the coefficient of  tntn  in  qn(t)qn(t) . That is,  qn,0=1qn,0=1  and  qn,n=1qn,n=1  for all integers  n≥0n≥0 .\n",
    "Second, using the formula relating the coefficients for  (t+1)p(t)(t+1)p(t)  to the coefficients for  p(t)p(t)  above, we see that  an,k=an−1,k−1+an−1,kan,k=an−1,k−1+an−1,k  when  0<k<n0<k<n .\n",
    "The following function satisfies the requirements above."
   ]
  },
  {
   "cell_type": "code",
   "execution_count": null,
   "metadata": {
    "collapsed": true
   },
   "outputs": [],
   "source": []
  }
 ],
 "metadata": {
  "kernelspec": {
   "display_name": "Python 3",
   "language": "python",
   "name": "python3"
  },
  "language_info": {
   "codemirror_mode": {
    "name": "ipython",
    "version": 3
   },
   "file_extension": ".py",
   "mimetype": "text/x-python",
   "name": "python",
   "nbconvert_exporter": "python",
   "pygments_lexer": "ipython3",
   "version": "3.4.3"
  }
 },
 "nbformat": 4,
 "nbformat_minor": 0
}
