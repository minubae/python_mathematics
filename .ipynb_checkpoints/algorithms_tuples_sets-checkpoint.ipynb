{
 "cells": [
  {
   "cell_type": "markdown",
   "metadata": {},
   "source": [
    "# 03. Mathematical Algorithms - Tuples and Sets\n",
    "- Title: Mathematical Algorithms - Tuples and Sets in Python\n",
    "- Date: Oct/06/2015, Tuesday - Current\n",
    "- Author: Minwoo Bae (minubae.nyc@gmail.com)\n",
    "- Reference: http://wphooper.com/teaching/2015-fall-308/python/Tuples_and_Sets.html"
   ]
  },
  {
   "cell_type": "markdown",
   "metadata": {},
   "source": [
    "## Tuples\n",
    "In Python (and also Mathematics) a tuple is a finite ordered list of objects. If $n \\geq 1$ is an integer, a  n-tuple is an ordered list of n objects. A  2-tuple is also called a pair, a  3-tuple a triple, a 4-tuple is a quadruple. The terminology was invented because  12-tuple is easier to understand than duodecuple (Wikipedia has an <a href=\"https://en.wikipedia.org/wiki/Tuple\" target=\"_blank\">article on tuples</a>)."
   ]
  },
  {
   "cell_type": "code",
   "execution_count": 3,
   "metadata": {
    "collapsed": false
   },
   "outputs": [
    {
     "data": {
      "text/plain": [
       "(1, 2, 3, 4, 5)"
      ]
     },
     "execution_count": 3,
     "metadata": {},
     "output_type": "execute_result"
    }
   ],
   "source": [
    "# A Tuple\n",
    "1,2,3,4,5"
   ]
  },
  {
   "cell_type": "markdown",
   "metadata": {},
   "source": [
    "## 01) Baricenter\n",
    "The baricenter of a triangle is the average of its coordinates. The following computes the baricenter of a triangle (given as a 3-tuple of vertices). This point is always inside the triangle."
   ]
  },
  {
   "cell_type": "code",
   "execution_count": 4,
   "metadata": {
    "collapsed": true
   },
   "outputs": [],
   "source": [
    "def baricenter(triangle):\n",
    "    p,q,r = triangle    # Store the vertices in p, q and r.\n",
    "    x1,y1 = p           # Store the coordinates of p in x1 and y1.\n",
    "    x2,y2 = q\n",
    "    x3,y3 = r\n",
    "    return (x1+x2+x3)/3, (y1+y2+y3)/3    # return the average"
   ]
  },
  {
   "cell_type": "code",
   "execution_count": 5,
   "metadata": {
    "collapsed": false
   },
   "outputs": [
    {
     "data": {
      "text/plain": [
       "(1.6666666666666667, 2.0)"
      ]
     },
     "execution_count": 5,
     "metadata": {},
     "output_type": "execute_result"
    }
   ],
   "source": [
    "triangle = (0,0), (2,1), (3,5)\n",
    "baricenter(triangle)"
   ]
  },
  {
   "cell_type": "markdown",
   "metadata": {},
   "source": [
    "## 02) The Finonacci Numbers using pairs (a tuple)\n",
    "In mathematics, the Fibonacci numbers or Fibonacci sequence are the numbers in the following integer sequence: $ 1, 1, 2, 3, 5, 8, 13, 21, 34, 55, 89, 144, \\ldots $\n",
    "or (often, in modern usage): $ 0, 1, 1, 2, 3, 5, 8, 13, 21, 34, 55, 89, 144,\\ldots$\n",
    "By definition, the first two numbers in the Fibonacci sequence are either 1 and 1, or 0 and 1, depending on the chosen starting point of the sequence, and each subsequent number is the sum of the previous two. In mathematical terms, the sequence Fn of Fibonacci numbers is defined by the recurrence relation\n",
    "$$F_n = F_{n-1} + F_{n-2},$$ with seed values $F_1 = 1, \\space F_2 = 1$ or $F_0 = 0, \\space F_1 = 1$.\n"
   ]
  },
  {
   "cell_type": "code",
   "execution_count": 1,
   "metadata": {
    "collapsed": false
   },
   "outputs": [],
   "source": [
    "## Iteration Approach using pairs : Very Fast\n",
    "# To calculate the nth Fibonacci number in only n steps,\n",
    "# we can also start with 0 and 1 and iteratively add up items n times:\n",
    "def fibonacci(n):\n",
    "    a, b = 0, 1\n",
    "    while b < n:\n",
    "        print(b, end=',')\n",
    "        a, b = b, a+b"
   ]
  },
  {
   "cell_type": "code",
   "execution_count": 2,
   "metadata": {
    "collapsed": false
   },
   "outputs": [
    {
     "name": "stdout",
     "output_type": "stream",
     "text": [
      "1,1,2,3,5,8,13,21,34,55,89,"
     ]
    }
   ],
   "source": [
    "fibonacci(100)"
   ]
  },
  {
   "cell_type": "markdown",
   "metadata": {},
   "source": [
    "## 03) Average of numbers in a tuple\n",
    "The following computes the average of a students grades provided as a tuple. "
   ]
  },
  {
   "cell_type": "code",
   "execution_count": 5,
   "metadata": {
    "collapsed": false
   },
   "outputs": [],
   "source": [
    "def average(grades):\n",
    "    total = 0\n",
    "    for grade in grades:\n",
    "        total =  total + grade\n",
    "    return total/len(grades)"
   ]
  },
  {
   "cell_type": "code",
   "execution_count": 6,
   "metadata": {
    "collapsed": false
   },
   "outputs": [
    {
     "name": "stdout",
     "output_type": "stream",
     "text": [
      "The student's average is 84.28571428571429\n"
     ]
    }
   ],
   "source": [
    "grades= 100, 90, 70, 80, 60, 100, 90\n",
    "print(\"The student's average is\", average(grades))"
   ]
  },
  {
   "cell_type": "markdown",
   "metadata": {},
   "source": [
    "## 04) Concatenation of tuples: \n",
    "You can concatenate (stick together) two tuples with the + operation. "
   ]
  },
  {
   "cell_type": "code",
   "execution_count": 7,
   "metadata": {
    "collapsed": false
   },
   "outputs": [
    {
     "name": "stdout",
     "output_type": "stream",
     "text": [
      "The concatenation of v and w is (1, 3, 5, 2, 4, 6)\n"
     ]
    }
   ],
   "source": [
    "v = 1,3,5\n",
    "w = 2,4,6\n",
    "x = v+w\n",
    "print(\"The concatenation of v and w is\", x)"
   ]
  },
  {
   "cell_type": "markdown",
   "metadata": {},
   "source": [
    "## 05) The Distance between two Points in the Plane\n",
    "Write a function planar_distance(p,q) which takes as input two points in the plane and\n",
    "returns the distance between them. Here a point in the plane should be interpreted as a 2-tuple whose entries are both real numbers."
   ]
  },
  {
   "cell_type": "code",
   "execution_count": 16,
   "metadata": {
    "collapsed": true
   },
   "outputs": [],
   "source": [
    "import math\n",
    "def planar_distance(p,q):\n",
    "    x1,y1 = p\n",
    "    x2,y2 = q\n",
    "    return math.sqrt((x2-x1)**2 + (y2-y1)**2)"
   ]
  },
  {
   "cell_type": "code",
   "execution_count": 19,
   "metadata": {
    "collapsed": false
   },
   "outputs": [
    {
     "name": "stdout",
     "output_type": "stream",
     "text": [
      "The Distance between Points:  5.0\n"
     ]
    }
   ],
   "source": [
    "print('The Distance between Points: ', planar_distance( (1,1), (4,5) ))"
   ]
  },
  {
   "cell_type": "markdown",
   "metadata": {},
   "source": [
    "## Sets \n",
    "- A set in Python is an unordered finite collection of objects. They can be created using curly bracket notation.\n",
    "- A set can not contain multiple copies of the same object."
   ]
  },
  {
   "cell_type": "code",
   "execution_count": 12,
   "metadata": {
    "collapsed": false
   },
   "outputs": [
    {
     "name": "stdout",
     "output_type": "stream",
     "text": [
      "The Set A is {9, 2, 1, 4, 5}\n"
     ]
    }
   ],
   "source": [
    "A = {1, 2, 4, 5, 9}\n",
    "print('The Set A is', A)"
   ]
  },
  {
   "cell_type": "code",
   "execution_count": 13,
   "metadata": {
    "collapsed": false
   },
   "outputs": [
    {
     "name": "stdout",
     "output_type": "stream",
     "text": [
      "The Set B is {1, 2, 3}\n"
     ]
    }
   ],
   "source": [
    "B = {1, 2, 3, 2, 3, 2}\n",
    "print('The Set B is', B)"
   ]
  },
  {
   "cell_type": "markdown",
   "metadata": {},
   "source": [
    "## 01) The Union of a Collection of Sets\n",
    "In set theory, the union (denoted by $\\cup$) of a collection of sets is the set of all distinct elements in the collection. It is one of the fundamental operations through which sets can be combined and related to each other. The union of two sets A and B is the set of elements which are in A, in B, or in both A and B. In symbols,\n",
    "$$A  \\cup B = \\{ x: x \\in A \\text{  or  } x \\in B\\}.$$"
   ]
  },
  {
   "cell_type": "code",
   "execution_count": 27,
   "metadata": {
    "collapsed": true
   },
   "outputs": [],
   "source": [
    "def union(A,B):\n",
    "    C=set()         # Define C as the empty set\n",
    "    for a in A:\n",
    "        C.add(a)\n",
    "    for b in B:\n",
    "        C.add(b)\n",
    "    return C"
   ]
  },
  {
   "cell_type": "code",
   "execution_count": 28,
   "metadata": {
    "collapsed": false
   },
   "outputs": [
    {
     "data": {
      "text/plain": [
       "{1, 2, 3, 4, 5, 6, 'C', 'A', 'B'}"
      ]
     },
     "execution_count": 28,
     "metadata": {},
     "output_type": "execute_result"
    }
   ],
   "source": [
    "A = {1,2,3,4,5,6}\n",
    "B = {\"A\", \"B\", \"C\"}\n",
    "union(A,B)"
   ]
  },
  {
   "cell_type": "markdown",
   "metadata": {},
   "source": [
    "## 02) The Intersection of a Collection of Sets\n",
    "In mathematics, the intersection $A \\cap B$ of two sets A and B is the set that contains all elements of A that also belong to B (or equivalently, all elements of B that also belong to A), but no other elements. The intersection of A and B is written \"$A \\cap B$\". Formally:\n",
    "$$A \\cap B = \\{ x: x \\in A \\,\\land\\, x \\in B\\}.$$\n",
    "Write a function named intersection which takes as input two sets A and B and returns \n",
    "the intersection of A and B. Do not use the intersection methods defined by Python. \n",
    "You should be able to do this with the set() function for constructing the empty set, \n",
    "one for loop for looping through elements of a set, the in statement for testing membership, \n",
    "and the add method for adding elments to a set."
   ]
  },
  {
   "cell_type": "code",
   "execution_count": 34,
   "metadata": {
    "collapsed": true
   },
   "outputs": [],
   "source": [
    "def intersection(A, B):\n",
    "    temp_set = set()\n",
    "    for a in A:\n",
    "        for b in B:\n",
    "            if a == b:\n",
    "                temp_set.add(a)\n",
    "    \n",
    "    return sorted(temp_set)"
   ]
  },
  {
   "cell_type": "code",
   "execution_count": 33,
   "metadata": {
    "collapsed": false
   },
   "outputs": [
    {
     "name": "stdout",
     "output_type": "stream",
     "text": [
      "The Intersection of Two Sets is [4, 5, 6]\n"
     ]
    }
   ],
   "source": [
    "A={1,2,3,4,5,6}\n",
    "B={4,5,6,7,8,9}\n",
    "print('The Intersection of Two Sets is', intersection(A,B))"
   ]
  },
  {
   "cell_type": "markdown",
   "metadata": {},
   "source": [
    "## 03) A Subset\n",
    "In mathematics, especially in set theory, a set A is a subset of a set B, or equivalently B is a superset of A, if A is \"contained\" inside B, that is, all elements of A are also elements of B. A and B may coincide. The relationship of one set being a subset of another is called inclusion or sometimes containment. If A and B are sets and every element of A is also an element of B, then:\n",
    "\n",
    "- A is a subset of (or is included in) B, denoted by $A \\subseteq B$, or equivalently\n",
    "- B is a superset of (or includes) A, denoted by $B \\supseteq A$.\n",
    "\n",
    "Write a function called is_subset which takes two sets A and B and returns True if A is a subset of B and returns False if A is not a subset of B."
   ]
  },
  {
   "cell_type": "code",
   "execution_count": 35,
   "metadata": {
    "collapsed": true
   },
   "outputs": [],
   "source": [
    "def is_subset(A,B):\n",
    "    for a in A:\n",
    "        if a not in B:\n",
    "            return False\n",
    "    return True"
   ]
  },
  {
   "cell_type": "code",
   "execution_count": 40,
   "metadata": {
    "collapsed": false
   },
   "outputs": [
    {
     "name": "stdout",
     "output_type": "stream",
     "text": [
      "Is Subset:  True\n"
     ]
    }
   ],
   "source": [
    "A={1,2}\n",
    "C={1,2,3}\n",
    "empty_set=set()\n",
    "print('Is Subset: ', is_subset(A, C))"
   ]
  },
  {
   "cell_type": "markdown",
   "metadata": {},
   "source": [
    "## 04) Sumset of two sets of numbers\n",
    "Suppose A and B are two sets of numbers. Their sumset is the set\n",
    "{a + b : a ∈ A and b ∈ B}. $$\\{a+b : a \\in A \\space and \\space b \\in B\\}.$$\n",
    "Write a function called sumset(A,B) which takes as input two sets of numbers A and B and\n",
    "returns their sumset"
   ]
  },
  {
   "cell_type": "code",
   "execution_count": 41,
   "metadata": {
    "collapsed": true
   },
   "outputs": [],
   "source": [
    "def sumset(A,B):\n",
    "    temp_set = set()\n",
    "    for a in A:\n",
    "        for b in B:\n",
    "            temp_set.add(a+b)\n",
    "    return temp_set "
   ]
  },
  {
   "cell_type": "code",
   "execution_count": null,
   "metadata": {
    "collapsed": true
   },
   "outputs": [],
   "source": []
  }
 ],
 "metadata": {
  "kernelspec": {
   "display_name": "Python 3",
   "language": "python",
   "name": "python3"
  },
  "language_info": {
   "codemirror_mode": {
    "name": "ipython",
    "version": 3
   },
   "file_extension": ".py",
   "mimetype": "text/x-python",
   "name": "python",
   "nbconvert_exporter": "python",
   "pygments_lexer": "ipython3",
   "version": "3.4.3"
  }
 },
 "nbformat": 4,
 "nbformat_minor": 0
}
