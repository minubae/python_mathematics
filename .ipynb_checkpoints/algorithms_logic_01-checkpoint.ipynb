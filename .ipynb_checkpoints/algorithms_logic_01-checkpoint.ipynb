{
 "cells": [
  {
   "cell_type": "markdown",
   "metadata": {},
   "source": [
    "# 02. Mathematical Algorithms - Logic\n",
    "- Title: Mathematical Algorithms Basics in Python\n",
    "- Date: Oct/06/2015, Tuesday - Current\n",
    "- Author: Minwoo Bae (minubae.nyc@gmail.com)\n",
    "- Reference: http://wphooper.com/teaching/2015-fall-308/python/Logic.html"
   ]
  },
  {
   "cell_type": "markdown",
   "metadata": {},
   "source": [
    "##01) Truth Tables\n",
    "Suppose truth_function is a function which takes as input two boolean values P and Q and returns a new Boolean value. Then we can print out a truth table for truth_function. Here is a function which does this:"
   ]
  },
  {
   "cell_type": "code",
   "execution_count": 3,
   "metadata": {
    "collapsed": false
   },
   "outputs": [
    {
     "name": "stdout",
     "output_type": "stream",
     "text": [
      " P    |  Q    |  xor(P,Q)\n",
      "True  | True  | False\n",
      "True  | False | True \n",
      "False | True  | True \n",
      "False | False | False\n"
     ]
    }
   ],
   "source": [
    "def print_truth_table(truth_function):\n",
    "    print(\" P    |  Q    |  \", truth_function.__name__,\"(P,Q)\", sep=\"\")\n",
    "    for P in (True, False):\n",
    "        for Q in (True, False):\n",
    "            print(str(P).ljust(5), \"|\", str(Q).ljust(5), \"|\",str(truth_function(P,Q)).ljust(5))\n",
    "\n",
    "def xor(P,Q):\n",
    "    return (P or Q) and not (P and Q)\n",
    "\n",
    "def or_not(P,Q):\n",
    "    return (not P) or (not Q)\n",
    "\n",
    "def not_and(P,Q):\n",
    "    return not (P and Q)\n",
    "\n",
    "def or_function(P,Q):\n",
    "    return P or Q\n",
    "\n",
    "print_truth_table(xor)"
   ]
  },
  {
   "cell_type": "markdown",
   "metadata": {
    "collapsed": true
   },
   "source": [
    "##02) The Implication\n",
    "Write a function named implies(P,Q) that takes as input two boolean values P and Q and returns the truth value of the statement \"P implies Q\"."
   ]
  }
 ],
 "metadata": {
  "kernelspec": {
   "display_name": "Python 3",
   "language": "python",
   "name": "python3"
  },
  "language_info": {
   "codemirror_mode": {
    "name": "ipython",
    "version": 3
   },
   "file_extension": ".py",
   "mimetype": "text/x-python",
   "name": "python",
   "nbconvert_exporter": "python",
   "pygments_lexer": "ipython3",
   "version": "3.4.3"
  }
 },
 "nbformat": 4,
 "nbformat_minor": 0
}
