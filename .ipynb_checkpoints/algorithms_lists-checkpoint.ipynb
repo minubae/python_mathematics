{
 "cells": [
  {
   "cell_type": "markdown",
   "metadata": {},
   "source": [
    "# 04. Mathematical Algorithms - Lists\n",
    "- Title: Mathematical Algorithms - Tuples and Sets in Python\n",
    "- Date: Oct/06/2015, Tuesday - Current\n",
    "- Author: Minwoo Bae (minubae.nyc@gmail.com)\n",
    "- Reference: http://wphooper.com/teaching/2015-fall-308/python/Lists.html"
   ]
  },
  {
   "cell_type": "markdown",
   "metadata": {},
   "source": [
    "## Lists\n",
    "In the page on Tuples and Sets, we described that a tuple can store an ordered list of objects. A tuple is immutable, meaning that once it is created it can't be changed. In this case, you can't do things such as add objects to the list, remove objects, or reorder the objects. There are various reasons why a programmer might want to work with immutable objects such as tuples instead of mutable objects which can be changed, but a complete discussion of this is beyond the scope of the course. (Wikipedia has a discussion of this in their <a href=\"https://en.wikipedia.org/wiki/Immutable_object\" target=\"_blank\">article on immutability</a>.)\n",
    "\n",
    "In any case, there are times when you want to be able to change the contents of a list. Python has a List type for this purpose. You create a list with square brackets."
   ]
  },
  {
   "cell_type": "code",
   "execution_count": 11,
   "metadata": {
    "collapsed": false
   },
   "outputs": [
    {
     "data": {
      "text/plain": [
       "list"
      ]
     },
     "execution_count": 11,
     "metadata": {},
     "output_type": "execute_result"
    }
   ],
   "source": [
    "my_list = list()\n",
    "my_list=[1,2,3,4,'A','B','C']\n",
    "type(my_list)"
   ]
  },
  {
   "cell_type": "code",
   "execution_count": 8,
   "metadata": {
    "collapsed": false
   },
   "outputs": [
    {
     "name": "stdout",
     "output_type": "stream",
     "text": [
      "1\n",
      "2\n",
      "3\n",
      "4\n",
      "A\n",
      "B\n",
      "C\n"
     ]
    }
   ],
   "source": [
    "for x in my_list:\n",
    "    print(x)"
   ]
  },
  {
   "cell_type": "markdown",
   "metadata": {},
   "source": [
    "## Append and Remove"
   ]
  },
  {
   "cell_type": "code",
   "execution_count": 9,
   "metadata": {
    "collapsed": false
   },
   "outputs": [
    {
     "name": "stdout",
     "output_type": "stream",
     "text": [
      "My list is now [1, 2, 3, 4, 'B', 'C', 'adding']\n"
     ]
    }
   ],
   "source": [
    "# Adds item to the end of the list.\n",
    "my_list.append(\"adding\")\n",
    "\n",
    "# Removes the first occurence of obj from the list. Causes an error if the item does not appear. \n",
    "my_list.remove('A')\n",
    "print(\"My list is now\", my_list)"
   ]
  },
  {
   "cell_type": "markdown",
   "metadata": {},
   "source": [
    "## Insertion"
   ]
  },
  {
   "cell_type": "code",
   "execution_count": 12,
   "metadata": {
    "collapsed": false
   },
   "outputs": [
    {
     "name": "stdout",
     "output_type": "stream",
     "text": [
      "My list is now ['zero', 1, 2, 3, 4, 'A', 'B', 'C']\n"
     ]
    }
   ],
   "source": [
    "# Adds item to the list in position k and increases the index of items previously \n",
    "# with indices in {k,k+1,…,len(lst)−1} by one. \n",
    "my_list.insert(0,\"zero\")\n",
    "print(\"My list is now\", my_list)"
   ]
  },
  {
   "cell_type": "code",
   "execution_count": 13,
   "metadata": {
    "collapsed": false
   },
   "outputs": [
    {
     "name": "stdout",
     "output_type": "stream",
     "text": [
      "My list is now ['zero', 1, 2, 3, 4, 5, 'A', 'B', 'C']\n"
     ]
    }
   ],
   "source": [
    "my_list.insert(5,5)\n",
    "print(\"My list is now\", my_list)"
   ]
  },
  {
   "cell_type": "markdown",
   "metadata": {},
   "source": [
    "## Pop\n",
    "Removes the last or ith element of the list and returns it."
   ]
  },
  {
   "cell_type": "code",
   "execution_count": 31,
   "metadata": {
    "collapsed": false
   },
   "outputs": [
    {
     "name": "stdout",
     "output_type": "stream",
     "text": [
      "[2, 3, 5, 7, 9]\n",
      "[2, 3, 5, 7, 9]\n"
     ]
    }
   ],
   "source": [
    "my_list_01=[2,3,5,7,9,11]\n",
    "print(my_list)\n",
    "\n",
    "# Removes the last element of the list and returns it\n",
    "my_list_01.pop()\n",
    "print(my_list_01)"
   ]
  },
  {
   "cell_type": "code",
   "execution_count": 32,
   "metadata": {
    "collapsed": false
   },
   "outputs": [
    {
     "name": "stdout",
     "output_type": "stream",
     "text": [
      "['A', 'B', 'C', 'D', 'E', 'F']\n",
      "['A', 'B', 'C', 'E', 'F']\n"
     ]
    }
   ],
   "source": [
    "my_list_02=['A','B','C','D','E','F']\n",
    "print(my_list_02)\n",
    "\n",
    "# Removes the  i th element of the list and returns it\n",
    "my_list_02.pop(3)\n",
    "print(my_list_02)"
   ]
  },
  {
   "cell_type": "markdown",
   "metadata": {},
   "source": [
    "## Aliasing (a warning)\n",
    "When we write an expression such as x = 3 in Python, your should really think that this says \"Give 3 the name x.\"\n",
    "\n",
    "Consider the following code:"
   ]
  },
  {
   "cell_type": "code",
   "execution_count": 14,
   "metadata": {
    "collapsed": false
   },
   "outputs": [
    {
     "name": "stdout",
     "output_type": "stream",
     "text": [
      "First, list1 is [1, 2, 3] and list2 is [1, 2, 3]\n"
     ]
    }
   ],
   "source": [
    "list1=[1,2,3]\n",
    "list2=list1\n",
    "print(\"First, list1 is\",list1,\"and list2 is\", list2)\n",
    "list1.remove(2)"
   ]
  },
  {
   "cell_type": "markdown",
   "metadata": {},
   "source": [
    "## Copying a List\n",
    "You can make a copy of a list with the copy() method. This partially resolves the above problem."
   ]
  },
  {
   "cell_type": "code",
   "execution_count": 17,
   "metadata": {
    "collapsed": false
   },
   "outputs": [
    {
     "name": "stdout",
     "output_type": "stream",
     "text": [
      "First, list1 is [1, 2, 3] and list2 is [1, 2, 3]\n",
      "Second, list1 is [1, 3] and list2 is [1, 2, 3]\n"
     ]
    }
   ],
   "source": [
    "list1=[1,2,3]\n",
    "list2=list1.copy()\n",
    "print(\"First, list1 is\",list1,\"and list2 is\", list2)\n",
    "list1.remove(2)\n",
    "print(\"Second, list1 is\",list1,\"and list2 is\", list2)"
   ]
  },
  {
   "cell_type": "code",
   "execution_count": 18,
   "metadata": {
    "collapsed": false
   },
   "outputs": [
    {
     "name": "stdout",
     "output_type": "stream",
     "text": [
      "First, matrix1 is [[1, 2], [4, 5]] and matrix2 is [[1, 2], [4, 5]]\n",
      "Second, matrix1 is [[1, 2], [4, 17]] and matrix2 is [[1, 2], [4, 17]]\n"
     ]
    }
   ],
   "source": [
    "# This type of copy is called a shallow copy. The problem manifests itself again for lists containing lists:\n",
    "matrix1=[ [1,2], [4,5] ]\n",
    "matrix2=matrix1.copy()\n",
    "print(\"First, matrix1 is\",matrix1,\"and matrix2 is\", matrix2)\n",
    "matrix1[1][1]=17\n",
    "print(\"Second, matrix1 is\",matrix1,\"and matrix2 is\", matrix2)"
   ]
  },
  {
   "cell_type": "code",
   "execution_count": 19,
   "metadata": {
    "collapsed": false
   },
   "outputs": [
    {
     "name": "stdout",
     "output_type": "stream",
     "text": [
      "First, matrix1 is [[1, 2], [4, 5]] and matrix2 is [[1, 2], [4, 5]]\n",
      "Second, matrix1 is [[1, 2], [4, 17]] and matrix2 is [[1, 2], [4, 17]]\n"
     ]
    }
   ],
   "source": [
    "# The copy() method makes a \"shallow copy\". It is essentially the same as the following code:\n",
    "matrix1=[ [1,2], [4,5] ]\n",
    "matrix2=[]\n",
    "for row in matrix1:\n",
    "    matrix2.append(row)\n",
    "print(\"First, matrix1 is\",matrix1,\"and matrix2 is\", matrix2)\n",
    "matrix1[1][1]=17\n",
    "print(\"Second, matrix1 is\",matrix1,\"and matrix2 is\", matrix2)"
   ]
  },
  {
   "cell_type": "code",
   "execution_count": 20,
   "metadata": {
    "collapsed": false
   },
   "outputs": [
    {
     "name": "stdout",
     "output_type": "stream",
     "text": [
      "First, matrix1 is [[1, 2], [4, 5]] and matrix2 is [[1, 2], [4, 5]]\n",
      "Second, matrix1 is [[1, 2], [4, 17]] and matrix2 is [[1, 2], [4, 5]]\n"
     ]
    }
   ],
   "source": [
    "# In this case matrix1 and matrix2 are different lists, but the elements in the list are all equal. \n",
    "# In otherwords matrix2[i] is just a different name for matrix1[i].\n",
    "# To fix the last code block, instead of appending the rows of matrix1, we should append copies of the rows.\n",
    "matrix1=[ [1,2], [4,5] ]\n",
    "matrix2=[]\n",
    "for row in matrix1:\n",
    "    matrix2.append(row.copy())\n",
    "print(\"First, matrix1 is\",matrix1,\"and matrix2 is\", matrix2)\n",
    "matrix1[1][1]=17\n",
    "print(\"Second, matrix1 is\",matrix1,\"and matrix2 is\", matrix2)"
   ]
  },
  {
   "cell_type": "code",
   "execution_count": 21,
   "metadata": {
    "collapsed": false
   },
   "outputs": [
    {
     "name": "stdout",
     "output_type": "stream",
     "text": [
      "First, matrix1 is [[1, 2], [4, 5]] and matrix2 is [[1, 2], [4, 5]]\n",
      "Second, matrix1 is [[1, 2], [4, 17]] and matrix2 is [[1, 2], [4, 5]]\n"
     ]
    }
   ],
   "source": [
    "# That worked as expected. But what if our lists were even more nested? \n",
    "# Python has a module called copy which has a deepcopy() method which deals with this. \n",
    "import copy\n",
    "matrix1=[ [1,2], [4,5] ]\n",
    "matrix2=copy.deepcopy(matrix1)\n",
    "print(\"First, matrix1 is\",matrix1,\"and matrix2 is\", matrix2)\n",
    "matrix1[1][1]=17\n",
    "print(\"Second, matrix1 is\",matrix1,\"and matrix2 is\", matrix2)"
   ]
  },
  {
   "cell_type": "markdown",
   "metadata": {},
   "source": [
    "##Examples"
   ]
  },
  {
   "cell_type": "markdown",
   "metadata": {},
   "source": [
    "##01) List of Fibonnacci numbers\n",
    "Suppose we want to create a function which lists the first  n≥2n≥2  Fibonnacci numbers starting at (1,1). The following does this:"
   ]
  },
  {
   "cell_type": "code",
   "execution_count": 15,
   "metadata": {
    "collapsed": true
   },
   "outputs": [],
   "source": [
    "def fibonacci_list(n):\n",
    "    flist = [1,1]\n",
    "    while len(flist)<n:\n",
    "        flist.append(flist[len(flist)-1]+flist[len(flist)-2])\n",
    "    return flist "
   ]
  },
  {
   "cell_type": "code",
   "execution_count": 16,
   "metadata": {
    "collapsed": false
   },
   "outputs": [
    {
     "data": {
      "text/plain": [
       "[1, 1, 2, 3, 5, 8, 13, 21, 34, 55, 89, 144, 233, 377]"
      ]
     },
     "execution_count": 16,
     "metadata": {},
     "output_type": "execute_result"
    }
   ],
   "source": [
    "fibonacci_list(14) "
   ]
  },
  {
   "cell_type": "markdown",
   "metadata": {},
   "source": [
    "##02) The Sieve of Eratosthenes \n",
    "The Sieve of Eratosthenes is a method to list the prime numbers p with  $2 \\leq p < n$ for some integer $n \\geq 2$.\n",
    "The basic idea is to maintain a list of \"possible primes.\" We will call this list lst starting with $lst=[2,3,4,\\dots ,n-1].$ We will construct a list of primes as we shorten our list of possible primes. As long as lst has at least one element, we will update our list of primes by adding the first element of lst. Then we remove all numbers in lst which are divisible by p. By induction, it will follow that the first number in our list is always prime because it has no smaller prime divisors. Also, aside from the first element of lst, all the other numbers in the list that we remove are composite (i.e., not prime) because they are divisible by a prime distinct from themselves. It follows that when the list lst becomes empty, we have found all primes in the original list.\n",
    "\n",
    "Here is a simple implementation of the Sieve. Whenever we update lst, we print it out. Hopefully this lets you figure out what it is doing. See the example below."
   ]
  },
  {
   "cell_type": "code",
   "execution_count": 33,
   "metadata": {
    "collapsed": true
   },
   "outputs": [],
   "source": [
    "def list_of_primes(n):\n",
    "    \"\"\"returns a list of primes $p$ with 2<=p<n.\"\"\"\n",
    "    lst = list(range(2,n))\n",
    "    print(\"Initially lst is \", lst, sep=\"\")\n",
    "    primes = []\n",
    "    while len(lst) > 0:\n",
    "        p = lst.pop(0)\n",
    "        primes.append(p)\n",
    "        temporary_list = []\n",
    "        for x in lst:\n",
    "            if x%p != 0:\n",
    "                temporary_list.append(x)\n",
    "        lst=temporary_list\n",
    "        print(\"We found the prime \", p, \". At this point our lst is \", lst, sep=\"\")\n",
    "    return primes"
   ]
  },
  {
   "cell_type": "code",
   "execution_count": 34,
   "metadata": {
    "collapsed": false
   },
   "outputs": [
    {
     "name": "stdout",
     "output_type": "stream",
     "text": [
      "Initially lst is [2, 3, 4, 5, 6, 7, 8, 9, 10, 11, 12, 13, 14, 15, 16, 17, 18, 19, 20, 21, 22, 23, 24, 25, 26, 27, 28, 29]\n",
      "We found the prime 2. At this point our lst is [3, 5, 7, 9, 11, 13, 15, 17, 19, 21, 23, 25, 27, 29]\n",
      "We found the prime 3. At this point our lst is [5, 7, 11, 13, 17, 19, 23, 25, 29]\n",
      "We found the prime 5. At this point our lst is [7, 11, 13, 17, 19, 23, 29]\n",
      "We found the prime 7. At this point our lst is [11, 13, 17, 19, 23, 29]\n",
      "We found the prime 11. At this point our lst is [13, 17, 19, 23, 29]\n",
      "We found the prime 13. At this point our lst is [17, 19, 23, 29]\n",
      "We found the prime 17. At this point our lst is [19, 23, 29]\n",
      "We found the prime 19. At this point our lst is [23, 29]\n",
      "We found the prime 23. At this point our lst is [29]\n",
      "We found the prime 29. At this point our lst is []\n",
      "Our list of primes is [2, 3, 5, 7, 11, 13, 17, 19, 23, 29]\n"
     ]
    }
   ],
   "source": [
    "primes=list_of_primes(30)\n",
    "print(\"Our list of primes is\", primes)"
   ]
  },
  {
   "cell_type": "markdown",
   "metadata": {},
   "source": [
    "<b>Remarks</b>: I did not attempt to write the most efficient or the shortest program which implements the Sieve of Eratosthenes. There is a good Wikipedia article on <a href=\"https://en.wikipedia.org/wiki/Sieve_of_Eratosthenes\" target=\"_blank\">the Sieve of Eratosthenes</a>."
   ]
  },
  {
   "cell_type": "markdown",
   "metadata": {},
   "source": [
    "##03) The Tribonacci Sequence\n",
    "The tribonacci sequence is a sequence of integers defined inductively by $a_0=a_1=0,\\ a_2=1$, and  $a_{n+3}=a_n+a_{n+1}+a_{n+2}$ for integers $n \\geq 0$. Write a function tribonacci(m) which takes as input an number  $m \\geq 1$ and returns the list $[a_0,a_1,a_2,\\dots,a_k]$ where  akak  is the largest number in the sequence with  $a_k<m.$"
   ]
  },
  {
   "cell_type": "code",
   "execution_count": 36,
   "metadata": {
    "collapsed": true
   },
   "outputs": [],
   "source": [
    "def tribonacci(m):\n",
    "    if m >= 1:\n",
    "        temp=[0]*3\n",
    "        temp[0] = 0; temp[1] = 0; temp[2] = 1\n",
    "        res = 0; n = 3; index = 0\n",
    "        index = len(temp)-1\n",
    "        \n",
    "        while res < m:\n",
    "            res = temp[n-3] + temp[n-2] +temp[n-1]\n",
    "            \n",
    "            if res < m:\n",
    "                temp.append(res)\n",
    "            n += 1\n",
    "            \n",
    "        if temp[index] >= m:\n",
    "            temp.remove(temp[index])\n",
    "        return temp\n",
    "    else:\n",
    "        return 'm is not greater than equal to 1'"
   ]
  },
  {
   "cell_type": "code",
   "execution_count": 39,
   "metadata": {
    "collapsed": false
   },
   "outputs": [
    {
     "data": {
      "text/plain": [
       "[0, 0, 1, 1, 2, 4, 7, 13, 24, 44, 81]"
      ]
     },
     "execution_count": 39,
     "metadata": {},
     "output_type": "execute_result"
    }
   ],
   "source": [
    "tribonacci(100) "
   ]
  },
  {
   "cell_type": "code",
   "execution_count": 40,
   "metadata": {
    "collapsed": false
   },
   "outputs": [
    {
     "data": {
      "text/plain": [
       "[0, 0, 1, 1, 2, 4, 7, 13, 24, 44]"
      ]
     },
     "execution_count": 40,
     "metadata": {},
     "output_type": "execute_result"
    }
   ],
   "source": [
    "tribonacci(81) "
   ]
  },
  {
   "cell_type": "code",
   "execution_count": 41,
   "metadata": {
    "collapsed": true
   },
   "outputs": [],
   "source": [
    "def tribonacci_01(m):\n",
    "    l=[]\n",
    "    if (m>0):\n",
    "        l.append(0)\n",
    "        l.append(0)\n",
    "    if (m>1):\n",
    "        l.append(1)\n",
    "        last=1\n",
    "    while last<m:\n",
    "        last = l[len(l)-1]+l[len(l)-2]+l[len(l)-3]\n",
    "        if last<m:\n",
    "            l.append(last)\n",
    "    return l"
   ]
  },
  {
   "cell_type": "code",
   "execution_count": 42,
   "metadata": {
    "collapsed": false
   },
   "outputs": [
    {
     "data": {
      "text/plain": [
       "[0, 0, 1, 1, 2, 4, 7, 13, 24, 44]"
      ]
     },
     "execution_count": 42,
     "metadata": {},
     "output_type": "execute_result"
    }
   ],
   "source": [
    "tribonacci_01(81) "
   ]
  },
  {
   "cell_type": "markdown",
   "metadata": {},
   "source": [
    "##04) The Catalan Numbers\n",
    "Viewing addition as a binary operation, the Catalan number $C_k$ is the number of ways to write $k+1$ as a sum of $k+1$ ones. Here $k\\geq 0$ is an integer. For example $C_0=1$ because 1 can only be expressed as 1, and $C_1=1$ because $2=1+1$ is the only way to write 2 as a sum of ones. But, $C_2=2$ because \n",
    "\n",
    "$$3=(1+1)+1=1+(1+1),$$\n",
    "\n",
    "and $C_3=5$ because \n",
    "\n",
    "$$4=1+(1+(1+1))=1+((1+1)+1)=(1+1)+(1+1)=((1+1)+1)+1=(1+(1+1))+1.$$\n",
    "\n",
    "Suppose we have an expression for $k+1$ as a sum of ones. Then there is an outermost addition, and we can simplify the left and right sides. For example, the sum $(1+(1+1))+1$ simplifies to $3+1.$\n",
    "\n",
    "Every sum representing $k+1$ simplifies to a sum of the form a+b with $a \\geq 1,\\ b \\geq 1,\\ and\\ a+b=k+1.$ Furthermore in such a sum $a$ and $b$ are each represented as a sum of ones. It follows that for $k \\geq 1$ we have \n",
    "\n",
    "$$C_k=\\displaystyle\\sum_{i=0}^{k-1} C_i * C_{k−i−1}.$$\n",
    "\n",
    "(Here each term $C_i C_{k−i−1}$ represents number of ways to write $k+1$ as a sum of ones which simplifies to $(i+1)+(k−i).$)\n",
    "\n",
    "Write a function catalan_numbers(n) which returns the list of the first n Catalan numbers:\n",
    "$[C_0, C_1,\\dots, C_{n−1}].$ \n",
    "\n",
    "Remark: All you really need to know about the Catalan numbers is that $C_0 = 1$ and the summation formula above. (The Catalan numbers show up in a lot of counting problems. Wikipedia has a nice article on <a href=\"https://en.wikipedia.org/wiki/Catalan_number\" target=\"_blank\">the Catalan numbers</a>.)"
   ]
  },
  {
   "cell_type": "code",
   "execution_count": 43,
   "metadata": {
    "collapsed": true
   },
   "outputs": [],
   "source": [
    "def catalan_numbers(n):\n",
    "    def factorial(n):\n",
    "        i = 1; fact = 1\n",
    "        if n == 0 or n == 1:\n",
    "            return 1\n",
    "        while i <= n:\n",
    "            fact = fact*i\n",
    "            i += 1\n",
    "        return fact\n",
    "    temp=list(); C = 0\n",
    "    try:\n",
    "        for i in range(n):\n",
    "            C = factorial(2*i) // (factorial(i+1)*factorial(i))\n",
    "            temp.append(C)\n",
    "        return temp\n",
    "    except Exception as error:\n",
    "        return error"
   ]
  },
  {
   "cell_type": "code",
   "execution_count": 44,
   "metadata": {
    "collapsed": false
   },
   "outputs": [
    {
     "data": {
      "text/plain": [
       "[1, 1, 2, 5, 14, 42, 132, 429, 1430, 4862]"
      ]
     },
     "execution_count": 44,
     "metadata": {},
     "output_type": "execute_result"
    }
   ],
   "source": [
    "catalan_numbers(10)"
   ]
  },
  {
   "cell_type": "code",
   "execution_count": 51,
   "metadata": {
    "collapsed": true
   },
   "outputs": [],
   "source": [
    "def catalan_numbers_01(n):\n",
    "    if n<1:\n",
    "        return []\n",
    "    c=[1]\n",
    "    for k in range(1,n):\n",
    "        sum=0\n",
    "        for i in range(k):\n",
    "            sum = sum + c[i]*c[k-i-1]\n",
    "        c.append(sum)\n",
    "    return c"
   ]
  },
  {
   "cell_type": "code",
   "execution_count": 52,
   "metadata": {
    "collapsed": false
   },
   "outputs": [
    {
     "data": {
      "text/plain": [
       "[1, 1, 2, 5, 14, 42, 132, 429, 1430, 4862]"
      ]
     },
     "execution_count": 52,
     "metadata": {},
     "output_type": "execute_result"
    }
   ],
   "source": [
    "catalan_numbers_01(10)"
   ]
  },
  {
   "cell_type": "markdown",
   "metadata": {},
   "source": [
    "##05) A Palindrome\n",
    "A list is a palindrome if it is the same when reversed. Write a function is_palindrome(lst) which takes as input a list lst and returns the truth value of the statement \"lst is a palindrome.\""
   ]
  },
  {
   "cell_type": "code",
   "execution_count": 53,
   "metadata": {
    "collapsed": true
   },
   "outputs": [],
   "source": [
    "def is_palindrome(lst):\n",
    "    return 1"
   ]
  },
  {
   "cell_type": "markdown",
   "metadata": {},
   "source": [
    "##06) The Coefficient List of the Derivative of the Polynomial\n",
    "Write a function derivative(c) which takes as input a list c coefficients of a polynomial and returns the coefficient list of the derivative of the polynomial."
   ]
  },
  {
   "cell_type": "code",
   "execution_count": 54,
   "metadata": {
    "collapsed": true
   },
   "outputs": [],
   "source": [
    "def derivative(c):\n",
    "    return 1"
   ]
  },
  {
   "cell_type": "markdown",
   "metadata": {},
   "source": [
    "##07) The Coefficient List of the Product of these Polynomials\n",
    "Write a function multiply_polynomials(c1,c2) which takes as input two lists of coefficients of two polynomials and returns the coefficient list of the product of these polynomials."
   ]
  },
  {
   "cell_type": "code",
   "execution_count": 55,
   "metadata": {
    "collapsed": true
   },
   "outputs": [],
   "source": [
    "def multiply_polynomials(c1,c2):\n",
    "    return 1"
   ]
  },
  {
   "cell_type": "markdown",
   "metadata": {},
   "source": [
    "##08) The Perimeter\n",
    "A polygon in the plane can be stored as a list of coordinates of vertices, where each vertex is a pair of numbers. \n",
    "For instance [(0,0),(3,0),(0,4)] represents a 3-4-5 right triangle.\n",
    "\n",
    "Write a function perimeter(p) which computes the perimeter of the polygon p, where p is represented as a list of coordinates as above. For example, perimeter([(0,0),(3,0),(0,4)]) should return 12 (which is 3+4+5)."
   ]
  },
  {
   "cell_type": "code",
   "execution_count": null,
   "metadata": {
    "collapsed": true
   },
   "outputs": [],
   "source": [
    "def perimeter(p):\n",
    "    return 1"
   ]
  }
 ],
 "metadata": {
  "kernelspec": {
   "display_name": "Python 3",
   "language": "python",
   "name": "python3"
  },
  "language_info": {
   "codemirror_mode": {
    "name": "ipython",
    "version": 3
   },
   "file_extension": ".py",
   "mimetype": "text/x-python",
   "name": "python",
   "nbconvert_exporter": "python",
   "pygments_lexer": "ipython3",
   "version": "3.4.3"
  }
 },
 "nbformat": 4,
 "nbformat_minor": 0
}
