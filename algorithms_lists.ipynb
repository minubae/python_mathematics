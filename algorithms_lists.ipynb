{
 "cells": [
  {
   "cell_type": "markdown",
   "metadata": {},
   "source": [
    "# 04. Mathematical Algorithms - Lists\n",
    "- Title: Mathematical Algorithms - Tuples and Sets in Python\n",
    "- Date: Oct/06/2015, Tuesday - Current\n",
    "- Author: Minwoo Bae (minubae.nyc@gmail.com)\n",
    "- Reference: http://wphooper.com/teaching/2015-fall-308/python/Lists.html"
   ]
  },
  {
   "cell_type": "code",
   "execution_count": null,
   "metadata": {
    "collapsed": true
   },
   "outputs": [],
   "source": []
  }
 ],
 "metadata": {
  "kernelspec": {
   "display_name": "Python 3",
   "language": "python",
   "name": "python3"
  },
  "language_info": {
   "codemirror_mode": {
    "name": "ipython",
    "version": 3
   },
   "file_extension": ".py",
   "mimetype": "text/x-python",
   "name": "python",
   "nbconvert_exporter": "python",
   "pygments_lexer": "ipython3",
   "version": "3.4.3"
  }
 },
 "nbformat": 4,
 "nbformat_minor": 0
}
