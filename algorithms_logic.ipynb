{
 "cells": [
  {
   "cell_type": "markdown",
   "metadata": {},
   "source": [
    "# 02. Mathematical Algorithms - Logic\n",
    "- Title: Mathematical Algorithms - Basics in Python\n",
    "- Date: Oct/06/2015, Tuesday - Current\n",
    "- Author: Minwoo Bae (minubae.nyc@gmail.com)\n",
    "- Reference: http://wphooper.com/teaching/2015-fall-308/python/Logic.html"
   ]
  },
  {
   "cell_type": "markdown",
   "metadata": {},
   "source": [
    "##Examples"
   ]
  },
  {
   "cell_type": "markdown",
   "metadata": {},
   "source": [
    "##01) The Truth Table\n",
    "Suppose truth_function is a function which takes as input two boolean values $P$ and $Q$ and returns a new Boolean value. Then we can print out a truth table for truth_function. Here is a function which does this:"
   ]
  },
  {
   "cell_type": "code",
   "execution_count": 25,
   "metadata": {
    "collapsed": false
   },
   "outputs": [],
   "source": [
    "def print_truth_table(truth_function):\n",
    "    print(\" P    |  Q    |  \", truth_function.__name__,\"(P,Q)\", sep=\"\")\n",
    "    for P in (True, False):\n",
    "        for Q in (True, False):\n",
    "            print(str(P).ljust(5), \"|\", str(Q).ljust(5), \"|\",str(truth_function(P,Q)).ljust(5))"
   ]
  },
  {
   "cell_type": "markdown",
   "metadata": {},
   "source": [
    "##02) The Disjunction\n",
    "The disjunction of the statement $P$ and $Q$ is the statement\n",
    "$$P \\space \\textbf{or} \\space Q$$\n",
    "and is denoted by $P \\lor Q$. Write a function named disjunction(P,Q) that takes as input two boolean values $P$ and $Q$ and returns the truth value of the statement \"$P \\space or \\space Q$\"."
   ]
  },
  {
   "cell_type": "code",
   "execution_count": 11,
   "metadata": {
    "collapsed": false
   },
   "outputs": [
    {
     "name": "stdout",
     "output_type": "stream",
     "text": [
      " P    |  Q    |  disjunction(P,Q)\n",
      "True  | True  | True \n",
      "True  | False | True \n",
      "False | True  | True \n",
      "False | False | False\n"
     ]
    }
   ],
   "source": [
    "def disjunction(P,Q):\n",
    "    return P or Q\n",
    "\n",
    "print_truth_table(disjunction)"
   ]
  },
  {
   "cell_type": "markdown",
   "metadata": {},
   "source": [
    "##03) The Conjunction\n",
    "The conjunction of the statement $P$ and $Q$ is the statement\n",
    "$$P \\space \\textbf{and} \\space Q$$\n",
    "and is denoted by $P \\land Q$. Write a function named conjunction(P,Q) that takes as input two boolean values $P$ and $Q$ and returns the truth value of the statement \"$P \\space and \\space Q$\"."
   ]
  },
  {
   "cell_type": "code",
   "execution_count": 12,
   "metadata": {
    "collapsed": false
   },
   "outputs": [
    {
     "name": "stdout",
     "output_type": "stream",
     "text": [
      " P    |  Q    |  conjunction(P,Q)\n",
      "True  | True  | True \n",
      "True  | False | False\n",
      "False | True  | False\n",
      "False | False | False\n"
     ]
    }
   ],
   "source": [
    "def conjunction(P,Q):\n",
    "    return P and Q\n",
    "\n",
    "print_truth_table(conjunction)"
   ]
  },
  {
   "cell_type": "markdown",
   "metadata": {},
   "source": [
    "##04) The Exclusive Or\n",
    "The exclusive or logical operation takes as input Boolean values and returns True or False. It returns True if one of the two expressions is true and the other is false (in any order). It returns False if the two truth values match. Write a function named xor which takes as input two boolean values P and Q and when evaluated as xor(P,Q) returns the value of $P \\space xor \\space Q \\space (P \\oplus Q)$."
   ]
  },
  {
   "cell_type": "code",
   "execution_count": 24,
   "metadata": {
    "collapsed": false
   },
   "outputs": [
    {
     "name": "stdout",
     "output_type": "stream",
     "text": [
      " P    |  Q    |  xor(P,Q)\n",
      "True  | True  | False\n",
      "True  | False | True \n",
      "False | True  | True \n",
      "False | False | False\n"
     ]
    }
   ],
   "source": [
    "def xor(P,Q):\n",
    "    return (P or Q) and not (P and Q)\n",
    "\n",
    "print_truth_table(xor)"
   ]
  },
  {
   "cell_type": "markdown",
   "metadata": {
    "collapsed": true
   },
   "source": [
    "##05) The Implication\n",
    "For statement $P$ and $Q$, the implication (or conditional) is the statement\n",
    "$$\\textbf{If} \\space P, \\space \\textbf{then} \\space Q$$\n",
    "and is denoted by $P \\implies Q$. \n",
    "Write a function named implies(P,Q) that takes as input two boolean values $P$ and $Q$ and returns the truth value of the statement \"$P \\space implies \\space Q$\"."
   ]
  },
  {
   "cell_type": "code",
   "execution_count": 5,
   "metadata": {
    "collapsed": false
   },
   "outputs": [
    {
     "name": "stdout",
     "output_type": "stream",
     "text": [
      " P    |  Q    |  implies(P,Q)\n",
      "True  | True  | True \n",
      "True  | False | False\n",
      "False | True  | True \n",
      "False | False | True \n"
     ]
    }
   ],
   "source": [
    "def implies(P,Q):\n",
    "    if(P and Q) or (not P and Q) or (not P and not Q):\n",
    "        return True\n",
    "    elif(P and not Q):\n",
    "        return False\n",
    "            \n",
    "print_truth_table(implies)"
   ]
  },
  {
   "cell_type": "markdown",
   "metadata": {},
   "source": [
    "##06) The Biconditional\n",
    "For statements (or open sentences) $P$ and $Q$, the conjunction\n",
    "$$(P \\implies Q)\\land (Q \\implies P)$$\n",
    "of the implication $P \\implies Q$ and its converse is called the biconditional of $P$ and $Q$ and is denoted by $P \\iff Q$. Write a function named iff(P,Q) that takes as input two boolean values $P$ and $Q$ and returns the truth value of the statement \"$P \\space if \\space and \\space only \\space if \\space Q$\"."
   ]
  },
  {
   "cell_type": "code",
   "execution_count": 7,
   "metadata": {
    "collapsed": false
   },
   "outputs": [
    {
     "name": "stdout",
     "output_type": "stream",
     "text": [
      " P    |  Q    |  iff(P,Q)\n",
      "True  | True  | True \n",
      "True  | False | False\n",
      "False | True  | False\n",
      "False | False | True \n"
     ]
    }
   ],
   "source": [
    "def iff(P,Q):\n",
    "    if (P and Q) or (not P and not Q):\n",
    "        return True\n",
    "    elif (not P and Q) or (P and not Q):\n",
    "        return False\n",
    "    \n",
    "print_truth_table(iff)"
   ]
  },
  {
   "cell_type": "markdown",
   "metadata": {},
   "source": [
    "##07) Logical Equivalence\n",
    "Let $R$ and $S$ are called $\\textbf{logically equivalent}$ if $R$ and $S$ have the same truth values for all combinations of truth values of their component statements. If $R$ and $S$ are logically equivalent, then this is denoted by $R \\equiv S$. Write a function named logically_equivalent(tf1, tf2) that takes as input two 2-input truth functions tf1 and tf2 and returns the boolean value of the statement ”The two truth functions are logically equivalent.” Your function should return True if and only if the two functions tf1 and tf2 return the same output whenever they are passed the same input values."
   ]
  },
  {
   "cell_type": "code",
   "execution_count": 20,
   "metadata": {
    "collapsed": false
   },
   "outputs": [
    {
     "data": {
      "text/plain": [
       "False"
      ]
     },
     "execution_count": 20,
     "metadata": {},
     "output_type": "execute_result"
    }
   ],
   "source": [
    "def logically_equivalent(tf1, tf2):\n",
    "    temp_tf1 = []\n",
    "    temp_tf2 = []\n",
    "    for P in (True, False):\n",
    "        for Q in (True, False):\n",
    "            temp_tf1.append(tf1(P,Q))\n",
    "            temp_tf2.append(tf2(P,Q))\n",
    "    return temp_tf1 == temp_tf2\n",
    "\n",
    "def logically_equivalent_01(tf1, tf2):\n",
    "    for P in (True, False):\n",
    "        for Q in (True, False):\n",
    "            if not iff( tf1(P,Q), tf2(P,Q) ):\n",
    "                return False\n",
    "    return True\n",
    "\n",
    "logically_equivalent(disjunction, conjunction)"
   ]
  }
 ],
 "metadata": {
  "kernelspec": {
   "display_name": "Python 3",
   "language": "python",
   "name": "python3"
  },
  "language_info": {
   "codemirror_mode": {
    "name": "ipython",
    "version": 3
   },
   "file_extension": ".py",
   "mimetype": "text/x-python",
   "name": "python",
   "nbconvert_exporter": "python",
   "pygments_lexer": "ipython3",
   "version": "3.4.3"
  }
 },
 "nbformat": 4,
 "nbformat_minor": 0
}
