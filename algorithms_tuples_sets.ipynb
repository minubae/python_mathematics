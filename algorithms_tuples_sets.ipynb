{
 "cells": [
  {
   "cell_type": "markdown",
   "metadata": {},
   "source": [
    "# 03. Mathematical Algorithms - Tuples and Sets\n",
    "- Title: Mathematical Algorithms - Tuples and Sets in Python\n",
    "- Date: Oct/06/2015, Tuesday - Current\n",
    "- Author: Minwoo Bae (minubae.nyc@gmail.com)\n",
    "- Reference: http://wphooper.com/teaching/2015-fall-308/python/Tuples_and_Sets.html"
   ]
  },
  {
   "cell_type": "markdown",
   "metadata": {},
   "source": [
    "## Tuples\n",
    "In Python (and also Mathematics) a tuple is a finite ordered list of objects. If $n \\geq 1$ is an integer, a  n-tuple is an ordered list of n objects. A  2-tuple is also called a pair, a  3-tuple a triple, a 4-tuple is a quadruple. The terminology was invented because  12-tuple is easier to understand than duodecuple (Wikipedia has an <a href=\"https://en.wikipedia.org/wiki/Tuple\" target=\"_blank\">article on tuples</a>)."
   ]
  },
  {
   "cell_type": "code",
   "execution_count": 3,
   "metadata": {
    "collapsed": false
   },
   "outputs": [
    {
     "data": {
      "text/plain": [
       "(1, 2, 3, 4, 5)"
      ]
     },
     "execution_count": 3,
     "metadata": {},
     "output_type": "execute_result"
    }
   ],
   "source": [
    "# A Tuple\n",
    "1,2,3,4,5"
   ]
  },
  {
   "cell_type": "markdown",
   "metadata": {},
   "source": [
    "##Examples"
   ]
  },
  {
   "cell_type": "markdown",
   "metadata": {},
   "source": [
    "## 01) Baricenter\n",
    "The baricenter of a triangle is the average of its coordinates. The following computes the baricenter of a triangle (given as a 3-tuple of vertices). This point is always inside the triangle."
   ]
  },
  {
   "cell_type": "code",
   "execution_count": 4,
   "metadata": {
    "collapsed": true
   },
   "outputs": [],
   "source": [
    "def baricenter(triangle):\n",
    "    p,q,r = triangle    # Store the vertices in p, q and r.\n",
    "    x1,y1 = p           # Store the coordinates of p in x1 and y1.\n",
    "    x2,y2 = q\n",
    "    x3,y3 = r\n",
    "    return (x1+x2+x3)/3, (y1+y2+y3)/3    # return the average"
   ]
  },
  {
   "cell_type": "code",
   "execution_count": 5,
   "metadata": {
    "collapsed": false
   },
   "outputs": [
    {
     "data": {
      "text/plain": [
       "(1.6666666666666667, 2.0)"
      ]
     },
     "execution_count": 5,
     "metadata": {},
     "output_type": "execute_result"
    }
   ],
   "source": [
    "triangle = (0,0), (2,1), (3,5)\n",
    "baricenter(triangle)"
   ]
  },
  {
   "cell_type": "markdown",
   "metadata": {},
   "source": [
    "## 02) The Finonacci Numbers using pairs (a tuple)\n",
    "In mathematics, the Fibonacci numbers or Fibonacci sequence are the numbers in the following integer sequence: $ 1, 1, 2, 3, 5, 8, 13, 21, 34, 55, 89, 144, \\ldots $\n",
    "or (often, in modern usage): $ 0, 1, 1, 2, 3, 5, 8, 13, 21, 34, 55, 89, 144,\\ldots$\n",
    "By definition, the first two numbers in the Fibonacci sequence are either 1 and 1, or 0 and 1, depending on the chosen starting point of the sequence, and each subsequent number is the sum of the previous two. In mathematical terms, the sequence Fn of Fibonacci numbers is defined by the recurrence relation\n",
    "\n",
    "$$F_n = F_{n-1} + F_{n-2},$$ \n",
    "\n",
    "with seed values $F_1 = 1, \\space F_2 = 1$ or $F_0 = 0, \\space F_1 = 1$.\n"
   ]
  },
  {
   "cell_type": "code",
   "execution_count": 1,
   "metadata": {
    "collapsed": false
   },
   "outputs": [],
   "source": [
    "## Iteration Approach using pairs : Very Fast\n",
    "# To calculate the nth Fibonacci number in only n steps,\n",
    "# we can also start with 0 and 1 and iteratively add up items n times:\n",
    "def fibonacci(n):\n",
    "    a, b = 0, 1\n",
    "    while b < n:\n",
    "        print(b, end=',')\n",
    "        a, b = b, a+b"
   ]
  },
  {
   "cell_type": "code",
   "execution_count": 2,
   "metadata": {
    "collapsed": false
   },
   "outputs": [
    {
     "name": "stdout",
     "output_type": "stream",
     "text": [
      "1,1,2,3,5,8,13,21,34,55,89,"
     ]
    }
   ],
   "source": [
    "fibonacci(100)"
   ]
  },
  {
   "cell_type": "markdown",
   "metadata": {},
   "source": [
    "## 03) Average of Numbers in a tuple\n",
    "The following computes the average of a students grades provided as a tuple. "
   ]
  },
  {
   "cell_type": "code",
   "execution_count": 5,
   "metadata": {
    "collapsed": false
   },
   "outputs": [],
   "source": [
    "def average(grades):\n",
    "    total = 0\n",
    "    for grade in grades:\n",
    "        total =  total + grade\n",
    "    return total/len(grades)"
   ]
  },
  {
   "cell_type": "code",
   "execution_count": 6,
   "metadata": {
    "collapsed": false
   },
   "outputs": [
    {
     "name": "stdout",
     "output_type": "stream",
     "text": [
      "The student's average is 84.28571428571429\n"
     ]
    }
   ],
   "source": [
    "grades= 100, 90, 70, 80, 60, 100, 90\n",
    "print(\"The student's average is\", average(grades))"
   ]
  },
  {
   "cell_type": "markdown",
   "metadata": {},
   "source": [
    "## 04) Concatenation of tuples: \n",
    "You can concatenate (stick together) two tuples with the + operation. "
   ]
  },
  {
   "cell_type": "code",
   "execution_count": 7,
   "metadata": {
    "collapsed": false
   },
   "outputs": [
    {
     "name": "stdout",
     "output_type": "stream",
     "text": [
      "The concatenation of v and w is (1, 3, 5, 2, 4, 6)\n"
     ]
    }
   ],
   "source": [
    "v = 1,3,5\n",
    "w = 2,4,6\n",
    "x = v+w\n",
    "print(\"The concatenation of v and w is\", x)"
   ]
  },
  {
   "cell_type": "markdown",
   "metadata": {},
   "source": [
    "## 05) The Distance between two Points in the Plane\n",
    "Write a function planar_distance(p,q) which takes as input two points in the plane and\n",
    "returns the distance between them. Here a point in the plane should be interpreted as a 2-tuple whose entries are both real numbers."
   ]
  },
  {
   "cell_type": "code",
   "execution_count": 16,
   "metadata": {
    "collapsed": true
   },
   "outputs": [],
   "source": [
    "import math\n",
    "def planar_distance(p,q):\n",
    "    x1,y1 = p\n",
    "    x2,y2 = q\n",
    "    return math.sqrt((x2-x1)**2 + (y2-y1)**2)"
   ]
  },
  {
   "cell_type": "code",
   "execution_count": 19,
   "metadata": {
    "collapsed": false
   },
   "outputs": [
    {
     "name": "stdout",
     "output_type": "stream",
     "text": [
      "The Distance between Points:  5.0\n"
     ]
    }
   ],
   "source": [
    "print('The Distance between Points: ', planar_distance( (1,1), (4,5) ))"
   ]
  },
  {
   "cell_type": "markdown",
   "metadata": {},
   "source": [
    "## Sets \n",
    "- A set in Python is an unordered finite collection of objects. They can be created using curly bracket notation.\n",
    "- A set can not contain multiple copies of the same object."
   ]
  },
  {
   "cell_type": "code",
   "execution_count": 12,
   "metadata": {
    "collapsed": false
   },
   "outputs": [
    {
     "name": "stdout",
     "output_type": "stream",
     "text": [
      "The Set A is {9, 2, 1, 4, 5}\n"
     ]
    }
   ],
   "source": [
    "A = {1, 2, 4, 5, 9}\n",
    "print('The Set A is', A)"
   ]
  },
  {
   "cell_type": "code",
   "execution_count": 13,
   "metadata": {
    "collapsed": false
   },
   "outputs": [
    {
     "name": "stdout",
     "output_type": "stream",
     "text": [
      "The Set B is {1, 2, 3}\n"
     ]
    }
   ],
   "source": [
    "B = {1, 2, 3, 2, 3, 2}\n",
    "print('The Set B is', B)"
   ]
  },
  {
   "cell_type": "markdown",
   "metadata": {},
   "source": [
    "##Examples"
   ]
  },
  {
   "cell_type": "markdown",
   "metadata": {},
   "source": [
    "## 01) The Union of a Collection of Sets\n",
    "In set theory, the union (denoted by $\\cup$) of a collection of sets is the set of all distinct elements in the collection. It is one of the fundamental operations through which sets can be combined and related to each other. The union of two sets A and B is the set of elements which are in A, in B, or in both A and B. In symbols,\n",
    "\n",
    "$$A  \\cup B = \\{ x: x \\in A \\text{  or  } x \\in B\\}.$$"
   ]
  },
  {
   "cell_type": "code",
   "execution_count": 27,
   "metadata": {
    "collapsed": true
   },
   "outputs": [],
   "source": [
    "def union(A,B):\n",
    "    C=set()         # Define C as the empty set\n",
    "    for a in A:\n",
    "        C.add(a)\n",
    "    for b in B:\n",
    "        C.add(b)\n",
    "    return C"
   ]
  },
  {
   "cell_type": "code",
   "execution_count": 28,
   "metadata": {
    "collapsed": false
   },
   "outputs": [
    {
     "data": {
      "text/plain": [
       "{1, 2, 3, 4, 5, 6, 'C', 'A', 'B'}"
      ]
     },
     "execution_count": 28,
     "metadata": {},
     "output_type": "execute_result"
    }
   ],
   "source": [
    "A = {1,2,3,4,5,6}\n",
    "B = {\"A\", \"B\", \"C\"}\n",
    "union(A,B)"
   ]
  },
  {
   "cell_type": "markdown",
   "metadata": {},
   "source": [
    "## 02) The Intersection of a Collection of Sets\n",
    "In mathematics, the intersection $A \\cap B$ of two sets A and B is the set that contains all elements of A that also belong to B (or equivalently, all elements of B that also belong to A), but no other elements. The intersection of A and B is written \"$A \\cap B$\". Formally:\n",
    "\n",
    "$$A \\cap B = \\{ x: x \\in A \\,\\land\\, x \\in B\\}.$$\n",
    "\n",
    "Write a function named intersection which takes as input two sets A and B and returns \n",
    "the intersection of A and B. Do not use the intersection methods defined by Python. \n",
    "You should be able to do this with the set() function for constructing the empty set, \n",
    "one for loop for looping through elements of a set, the in statement for testing membership, \n",
    "and the add method for adding elments to a set."
   ]
  },
  {
   "cell_type": "code",
   "execution_count": 34,
   "metadata": {
    "collapsed": true
   },
   "outputs": [],
   "source": [
    "def intersection(A, B):\n",
    "    temp_set = set()\n",
    "    for a in A:\n",
    "        for b in B:\n",
    "            if a == b:\n",
    "                temp_set.add(a)\n",
    "    \n",
    "    return sorted(temp_set)"
   ]
  },
  {
   "cell_type": "code",
   "execution_count": 33,
   "metadata": {
    "collapsed": false
   },
   "outputs": [
    {
     "name": "stdout",
     "output_type": "stream",
     "text": [
      "The Intersection of Two Sets is [4, 5, 6]\n"
     ]
    }
   ],
   "source": [
    "A={1,2,3,4,5,6}\n",
    "B={4,5,6,7,8,9}\n",
    "print('The Intersection of Two Sets is', intersection(A,B))"
   ]
  },
  {
   "cell_type": "markdown",
   "metadata": {},
   "source": [
    "## 03) A Subset\n",
    "In mathematics, especially in set theory, a set A is a subset of a set B, or equivalently B is a superset of A, if A is \"contained\" inside B, that is, all elements of A are also elements of B. A and B may coincide. The relationship of one set being a subset of another is called inclusion or sometimes containment. If A and B are sets and every element of A is also an element of B, then:\n",
    "\n",
    "- A is a subset of (or is included in) B, denoted by $A \\subseteq B$, or equivalently\n",
    "- B is a superset of (or includes) A, denoted by $B \\supseteq A$.\n",
    "\n",
    "Write a function called is_subset which takes two sets A and B and returns True if A is a subset of B and returns False if A is not a subset of B."
   ]
  },
  {
   "cell_type": "code",
   "execution_count": 35,
   "metadata": {
    "collapsed": true
   },
   "outputs": [],
   "source": [
    "def is_subset(A,B):\n",
    "    for a in A:\n",
    "        if a not in B:\n",
    "            return False\n",
    "    return True"
   ]
  },
  {
   "cell_type": "code",
   "execution_count": 40,
   "metadata": {
    "collapsed": false
   },
   "outputs": [
    {
     "name": "stdout",
     "output_type": "stream",
     "text": [
      "Is Subset:  True\n"
     ]
    }
   ],
   "source": [
    "A={1,2}\n",
    "C={1,2,3}\n",
    "empty_set=set()\n",
    "print('Is Subset: ', is_subset(A, C))"
   ]
  },
  {
   "cell_type": "markdown",
   "metadata": {},
   "source": [
    "## 04) Sumset of two Sets of Numbers\n",
    "Suppose A and B are two sets of numbers. Their sumset is the set\n",
    "\n",
    "$$\\{a+b : a \\in A \\space and \\space b \\in B\\}.$$\n",
    "\n",
    "Write a function called sumset(A,B) which takes as input two sets of numbers A and B and\n",
    "returns their sumset"
   ]
  },
  {
   "cell_type": "code",
   "execution_count": 41,
   "metadata": {
    "collapsed": true
   },
   "outputs": [],
   "source": [
    "def sumset(A,B):\n",
    "    temp_set = set()\n",
    "    for a in A:\n",
    "        for b in B:\n",
    "            temp_set.add(a+b)\n",
    "    return temp_set "
   ]
  },
  {
   "cell_type": "code",
   "execution_count": 44,
   "metadata": {
    "collapsed": false
   },
   "outputs": [
    {
     "name": "stdout",
     "output_type": "stream",
     "text": [
      "The sumset of two sets is  {2, 3, 4, 5, 6}\n",
      "The sumset of two sets is  {9, 2, 11, 4}\n"
     ]
    }
   ],
   "source": [
    "print('The sumset of two sets is ',sumset({1,2,3},{1,2,3}))\n",
    "print('The sumset of two sets is ',sumset({-1,1},{3,10}))"
   ]
  },
  {
   "cell_type": "markdown",
   "metadata": {},
   "source": [
    "## 05) Find a Set of Divisors of a Integer Number n\n",
    "A divisor of an integer n, is an integer d so that d divides n, i.e., so that $\\frac{n}{d} \\in \\mathbb{Z}.$ Write a function whose name is divisors which takes as input an integer n and returns the set of positive divisors of n."
   ]
  },
  {
   "cell_type": "code",
   "execution_count": 45,
   "metadata": {
    "collapsed": true
   },
   "outputs": [],
   "source": [
    "def divisors(n):\n",
    "    divisor_set = set()\n",
    "    for d in range(n):\n",
    "        if d != 0 and n%d == 0:\n",
    "            divisor_set.add(d)\n",
    "    return divisor_set"
   ]
  },
  {
   "cell_type": "code",
   "execution_count": 51,
   "metadata": {
    "collapsed": false
   },
   "outputs": [
    {
     "name": "stdout",
     "output_type": "stream",
     "text": [
      "The Set of Divisors is {1, 2, 5}\n"
     ]
    }
   ],
   "source": [
    "print('The Set of Divisors is',divisors(10))"
   ]
  },
  {
   "cell_type": "markdown",
   "metadata": {},
   "source": [
    "## 06) The Greatest Common Divisor of two Natural Numbers  a and  b \n",
    "The greatest common divisor of two non-negative integers a and b which are not both zero is the largest integer which evenly divides both a and b. The following is The Euclidean Algorithm to find the gcd of a and b. Using the previous problem, write an function named gcd_02() which takes as input two positive integers a and b and returns their greatest common divisor. Instead of using Euclid's algorithm, use the previous part to compute the two sets of divisors of the numbers. Then intersect these sets and find the maximal element. Note that in Python, you can write max(S) to find the maximal element of the set S. (Remark: This function is much more inefficient than Euclid's algorithm!)"
   ]
  },
  {
   "cell_type": "code",
   "execution_count": 55,
   "metadata": {
    "collapsed": true
   },
   "outputs": [],
   "source": [
    "def gcd(a,b):\n",
    "    if a>b:   # Ensure that a<=b:\n",
    "        (a,b) = (b,a)  # Swap the values of a and b if a>b.\n",
    "    while a!=0:\n",
    "        (a,b) = (b%a,a)\n",
    "    return b\n",
    "\n",
    "def minu_max(S):\n",
    "    temp_max = 0\n",
    "    for e in S:\n",
    "        if e > temp_max:\n",
    "            temp_max = e\n",
    "    return temp_max\n",
    "\n",
    "def gcd_02(a,b):\n",
    "\n",
    "    gcd_set = set()\n",
    "    temp_a = set()\n",
    "    temp_b = set()\n",
    "    \n",
    "    for d in range(a):\n",
    "        if d !=0 and a%d == 0:\n",
    "            temp_a.add(d)\n",
    "\n",
    "    for d in range(b):\n",
    "        if d !=0 and b%d == 0:\n",
    "            temp_b.add(d)\n",
    "\n",
    "    # A & B, A.intersection(B) : Returns the intersection of A and B.\n",
    "    gcd_set = temp_a & temp_b\n",
    "    # gcd_set = temp_a.intersection(temp_b)\n",
    "\n",
    "    # A | B, A.union(B) : Returns the union of A and B.\n",
    "    # A - B, A.difference(B) : Returns the set-theoretic difference A \\ B.\n",
    "    # A <= B, A.issubset(B) : Returns the boolean value of the statement A is a subset of B.\n",
    "    # A >= B, A.issuperset(B) : Returns the boolean value of the statement A contains B.\n",
    "    # A == B, Tests of equality of sets returning a boolean value.\n",
    "\n",
    "    gcd_set = sorted(gcd_set)\n",
    "    return minu_max(gcd_set)"
   ]
  },
  {
   "cell_type": "code",
   "execution_count": 53,
   "metadata": {
    "collapsed": false
   },
   "outputs": [
    {
     "name": "stdout",
     "output_type": "stream",
     "text": [
      "The GCD of 12 and 1 is 1\n",
      "The GCD of 12 and 2 is 2\n",
      "The GCD of 12 and 3 is 3\n",
      "The GCD of 12 and 4 is 4\n",
      "The GCD of 12 and 5 is 1\n",
      "The GCD of 12 and 6 is 6\n",
      "The GCD of 12 and 7 is 1\n",
      "The GCD of 12 and 8 is 4\n",
      "The GCD of 12 and 9 is 3\n",
      "The GCD of 12 and 10 is 2\n",
      "The GCD of 12 and 11 is 1\n",
      "The GCD of 12 and 12 is 12\n",
      "The GCD of 12 and 13 is 1\n",
      "The GCD of 12 and 14 is 2\n",
      "The GCD of 12 and 15 is 3\n",
      "The GCD of 12 and 16 is 4\n",
      "The GCD of 12 and 17 is 1\n",
      "The GCD of 12 and 18 is 6\n",
      "The GCD of 12 and 19 is 1\n",
      "The GCD of 12 and 20 is 4\n",
      "The GCD of 12 and 21 is 3\n",
      "The GCD of 12 and 22 is 2\n",
      "The GCD of 12 and 23 is 1\n",
      "The GCD of 12 and 24 is 12\n"
     ]
    }
   ],
   "source": [
    "for n in range(1,25):\n",
    "    print(\"The GCD of 12 and\", n, \"is\", gcd(12,n))"
   ]
  },
  {
   "cell_type": "code",
   "execution_count": 57,
   "metadata": {
    "collapsed": false
   },
   "outputs": [
    {
     "name": "stdout",
     "output_type": "stream",
     "text": [
      "GCD 1 2 3 4 5 6 7 8 9 \n",
      "---------------------\n",
      "1 | 0 0 0 0 0 0 0 0 0 \n",
      "2 | 0 1 1 1 1 1 1 1 1 \n",
      "3 | 0 1 1 1 1 1 1 1 1 \n",
      "4 | 0 1 1 2 1 2 1 2 1 \n",
      "5 | 0 1 1 1 1 1 1 1 1 \n",
      "6 | 0 1 1 2 1 3 1 2 3 \n",
      "7 | 0 1 1 1 1 1 1 1 1 \n",
      "8 | 0 1 1 2 1 2 1 4 1 \n",
      "9 | 0 1 1 1 1 3 1 1 3 \n"
     ]
    }
   ],
   "source": [
    "print(\"GCD \", end=\"\")\n",
    "for j in range(1,10):\n",
    "    print(j,end=\" \")\n",
    "print()\n",
    "for j in range(21):\n",
    "    print(\"-\", end=\"\")\n",
    "print()\n",
    "for i in range(1,10):\n",
    "    print(i, \"|\" ,end=\" \")\n",
    "    for j in range(1,10):\n",
    "        print(gcd_02(i,j), end=\" \")\n",
    "    print()"
   ]
  },
  {
   "cell_type": "markdown",
   "metadata": {},
   "source": [
    "## 07) The Sum of Squares \n",
    "The following is a simple function which checks if a integer n can be written as a sum of two squares of integers a and b, $n=a^2+b^2.$ It will return such a pair (a,b) if n can be written as a sum of squares and will return None if it can not.\n",
    " "
   ]
  },
  {
   "cell_type": "code",
   "execution_count": 58,
   "metadata": {
    "collapsed": true
   },
   "outputs": [],
   "source": [
    "def sum_of_squares(n):\n",
    "    a=0\n",
    "    while a**2<=n:\n",
    "        b=0\n",
    "        while a**2+b**2<=n:\n",
    "            if a**2+b**2==n:\n",
    "                return (a,b)\n",
    "            b=b+1\n",
    "        a=a+1\n",
    "    return None "
   ]
  },
  {
   "cell_type": "code",
   "execution_count": 59,
   "metadata": {
    "collapsed": true
   },
   "outputs": [],
   "source": [
    "def print_sum_of_squares(n):\n",
    "    output = sum_of_squares(n)\n",
    "    if output is None:\n",
    "        print(n,\"is not a sum of squares.\")\n",
    "    else:\n",
    "        # Now we know the output is a pair of integers.\n",
    "        (a,b) = output\n",
    "        print(n,\" = \",a,\"^2 + \",b,\"^2.\", sep=\"\")"
   ]
  },
  {
   "cell_type": "code",
   "execution_count": 60,
   "metadata": {
    "collapsed": false
   },
   "outputs": [
    {
     "name": "stdout",
     "output_type": "stream",
     "text": [
      "0 = 0^2 + 0^2.\n",
      "1 = 0^2 + 1^2.\n",
      "2 = 1^2 + 1^2.\n",
      "3 is not a sum of squares.\n",
      "4 = 0^2 + 2^2.\n",
      "5 = 1^2 + 2^2.\n",
      "6 is not a sum of squares.\n",
      "7 is not a sum of squares.\n",
      "8 = 2^2 + 2^2.\n",
      "9 = 0^2 + 3^2.\n",
      "10 = 1^2 + 3^2.\n",
      "11 is not a sum of squares.\n",
      "12 is not a sum of squares.\n",
      "13 = 2^2 + 3^2.\n",
      "14 is not a sum of squares.\n",
      "15 is not a sum of squares.\n",
      "16 = 0^2 + 4^2.\n",
      "17 = 1^2 + 4^2.\n",
      "18 = 3^2 + 3^2.\n",
      "19 is not a sum of squares.\n"
     ]
    }
   ],
   "source": [
    "for n in range(20):\n",
    "    print_sum_of_squares(n) "
   ]
  },
  {
   "cell_type": "markdown",
   "metadata": {},
   "source": [
    "##08) The Cartesian Product\n",
    "In mathematics, a Cartesian product is a mathematical operation which returns a set (or product set or simply product) from multiple sets. That is, for sets A and B, the Cartesian product A × B is the set of all ordered pairs (a, b) where a ∈ A and b ∈ B. Products can be specified using set-builder notation, e.g.\n",
    "\n",
    "$$A\\times B = \\{\\,(a,b)\\mid a\\in A \\ \\mbox{ and } \\ b\\in B\\,\\}.$$\n",
    "\n",
    "Let A, B, C, and D be sets. The Cartesian product A × B is not commutative,\n",
    "\n",
    "$$A \\times B \\neq B \\times A,$$\n",
    "\n",
    "because the ordered pairs are reversed except if at least one of the following conditions is satisfied: A is equal to B, or A or B is the empty set.\n",
    "For example:\n",
    "\n",
    "Let A = {1,2}; B = {3,4}\n",
    "- A × B = {1,2} × {3,4} = {(1,3), (1,4), (2,3), (2,4)}\n",
    "- B × A = {3,4} × {1,2} = {(3,1), (3,2), (4,1), (4,2)}\n",
    "- A = B = {1,2}\n",
    "- A × B = B × A = {1,2} × {1,2} = {(1,1), (1,2), (2,1), (2,2)}\n",
    "- A = {1,2}; B = ∅\n",
    "- A × B = {1,2} × ∅ = ∅\n",
    "- B × A = ∅ × {1,2} = ∅\n",
    "\n",
    "Strictly speaking, the Cartesian product is not associative (unless one of the involved sets is empty). \n",
    "\n",
    "$$(A\\times B)\\times C \\neq A \\times (B \\times C)$$\n",
    "$$If \\space A = {1}, \\space then \\space (A × A) × A = { ((1,1),1) } ≠ { (1,(1,1)) } = A × (A × A).$$\n",
    "\n",
    "The Cartestian product of two sets $A$ and $B$ is the collection of pairs (a,b) where  $a \\in A$ and  $b \\in B.$ Write a function which takes as input two sets, and returns their Cartesian product.\n",
    " "
   ]
  },
  {
   "cell_type": "code",
   "execution_count": 61,
   "metadata": {
    "collapsed": true
   },
   "outputs": [],
   "source": [
    "def cartesian_product(A,B):\n",
    "    C = set()                # C is the empty set\n",
    "    for a in A:\n",
    "        for b in B:\n",
    "            C.add( (a,b) )\n",
    "    return C"
   ]
  },
  {
   "cell_type": "code",
   "execution_count": 62,
   "metadata": {
    "collapsed": false
   },
   "outputs": [
    {
     "name": "stdout",
     "output_type": "stream",
     "text": [
      "{(2, 'B'), (1, 'C'), (1, 'A'), (1, 'B'), (3, 'B'), (3, 'C'), (2, 'A'), (2, 'C'), (3, 'A')}\n"
     ]
    }
   ],
   "source": [
    "A = {1,2,3}\n",
    "B = {\"A\", \"B\", \"C\"}\n",
    "C = cartesian_product(A,B)\n",
    "print(C)"
   ]
  },
  {
   "cell_type": "markdown",
   "metadata": {},
   "source": [
    "##09) Find a Maximum element of a Set\n",
    "Write your own function named max2 which takes as input a tuple t of numbers and returns the maximal element of t. Do not use the max function mentioned above, instead loop through the elements of t to find the maximal element."
   ]
  },
  {
   "cell_type": "code",
   "execution_count": 63,
   "metadata": {
    "collapsed": true
   },
   "outputs": [],
   "source": [
    "def find_max(S):\n",
    "    temp_max = 0\n",
    "    for e in S:\n",
    "        if e > temp_max:\n",
    "            temp_max = e\n",
    "    return temp_max"
   ]
  },
  {
   "cell_type": "code",
   "execution_count": 64,
   "metadata": {
    "collapsed": false
   },
   "outputs": [
    {
     "name": "stdout",
     "output_type": "stream",
     "text": [
      "The Max Element is 12\n"
     ]
    }
   ],
   "source": [
    "S={2,4,12}\n",
    "print('The Max Element is', find_max(S))"
   ]
  },
  {
   "cell_type": "markdown",
   "metadata": {},
   "source": [
    "##10) Find a Set of Squares\n",
    "Write a function set_of_squares(n) which takes as input a natural number n and returns the set\n",
    "\n",
    "$$A_n=\\{k^2: k \\in \\mathbb{Z} \\space and \\space 0\\leq k \\leq n\\}.$$"
   ]
  },
  {
   "cell_type": "code",
   "execution_count": 65,
   "metadata": {
    "collapsed": true
   },
   "outputs": [],
   "source": [
    "def set_of_squares(n):\n",
    "    temp_set = set()\n",
    "    \n",
    "    for k in range(n+1):\n",
    "        temp_set.add(k**2)\n",
    "        \n",
    "    return sorted(temp_set)"
   ]
  },
  {
   "cell_type": "code",
   "execution_count": 66,
   "metadata": {
    "collapsed": false
   },
   "outputs": [
    {
     "data": {
      "text/plain": [
       "[0, 1, 4, 9, 16, 25, 36, 49, 64, 81, 100]"
      ]
     },
     "execution_count": 66,
     "metadata": {},
     "output_type": "execute_result"
    }
   ],
   "source": [
    "set_of_squares(10)"
   ]
  },
  {
   "cell_type": "markdown",
   "metadata": {},
   "source": [
    "##11) The Lagrange's four-square theorem\n",
    "Lagrange's four-square theorem, also known as Bachet's conjecture, states that every natural number can be represented as the sum of four integer squares.\n",
    "\n",
    "$$p = a_0^2 + a_1^2 + a_2^2 + a_3^2\\ $$\n",
    "\n",
    "where the four numbers a_0, a_1, a_2, a_3 are integers. For illustration, 3, 31 and 310 can be represented as the sum of four squares as follows:\n",
    "\n",
    "\\begin{align}\n",
    "3 = 1^2+1^2+1^2+0^2 \\\\\n",
    "31 = 5^2+2^2+1^2+1^2 \\\\\n",
    "310 = 17^2+4^2+2^2+1^2.\n",
    "\\end{align}\n",
    "\n",
    "Lagrange's four-square theorem states that any non-negative integer is the sum of the squares of four integers. Write a function lagrange_four_square(n) which takes as input a non-negative integer n and returns a quadruple (a,b,c,d) of integers so that $n=a^2+b^2+c^2+d^2.$"
   ]
  },
  {
   "cell_type": "code",
   "execution_count": 67,
   "metadata": {
    "collapsed": true
   },
   "outputs": [],
   "source": [
    "def lagrange_four_square(N):\n",
    "    tempN = N\n",
    "    for a in range(tempN,-1,-1):\n",
    "        for b in range(tempN, -1, -1):\n",
    "            for c in range(tempN, -1, -1):\n",
    "                for d in range(tempN, -1, -1):\n",
    "                    #tempN = tempN - (a**2+b**2+c**2+d**2)\n",
    "                    if a**2+b**2+c**2+d**2 == N:\n",
    "                        return a,b,c,d"
   ]
  },
  {
   "cell_type": "markdown",
   "metadata": {},
   "source": [
    "##12) Check a Rectangle is a Square\n",
    "Write a function is_square which takes as input four points in the plane with integer coordinates and returns the truth-value of the statement \"The four points are the vertices of a square.\"\n",
    "- INPUT: square = (0, 0), (2, 0), (0, 2), (2,2) = a,b,c,d\n",
    "- OUTPUT: True\n",
    "\n",
    "Properties of a Square:\n",
    "- a rectangle with two adjacent equal sides\n",
    "- a quadrilateral with four equal sides and four right angles\n",
    "- a parallelogram with one right angle and two adjacent equal sides\n",
    "- a rhombus with a right angle\n",
    "- a rhombus with all angles equal\n",
    "- a quadrilateral where the diagonals are equal and are the perpendicular bisectors of each other, i.e. a rhombus with equal diagonals"
   ]
  },
  {
   "cell_type": "code",
   "execution_count": 68,
   "metadata": {
    "collapsed": true
   },
   "outputs": [],
   "source": [
    "def is_square(sqaure):\n",
    "    \n",
    "    a,b,c,d=square\n",
    "    m = center_coord(a,b,c,d)\n",
    "    \n",
    "    def dist(p1,p2):\n",
    "        x1, y1 = p1\n",
    "        x2, y2 = p2\n",
    "        \n",
    "        # math.hypot(x, y):\n",
    "        # Return the Euclidean norm, sqrt(x*x + y*y). This is the length of the vector from the origin to point (x, y)\n",
    "        return math.hypot(x2-x1, y2-y1)\n",
    "        # return math.sqrt((x2-x1)**2+(y2-y1)**2)\n",
    "\n",
    "    def angle(p1,p2):\n",
    "        x1, y1 = p1\n",
    "        x2, y2 = p2\n",
    "        return math.atan2(y2-y1, x2-x1)\n",
    "    \n",
    "    if dist(a,b) == dist(a,c)==dist(b,d)==dist(c,d) and dist(a,m) == dist(b,m) == dist(c,m) == dist(d,m):\n",
    "        return True\n",
    "    \n",
    "    return False\n",
    "\n",
    "def center_coord(p1, p2, p3, p4):\n",
    "        x1, y1 = p1; x2, y2 = p2\n",
    "        x3, y3 = p3; x4, y4 = p4\n",
    "\n",
    "        coord = (x1+x2+x3+x4)/4, (y1+y2+y3+y4)/4\n",
    "\n",
    "        return coord"
   ]
  }
 ],
 "metadata": {
  "kernelspec": {
   "display_name": "Python 3",
   "language": "python",
   "name": "python3"
  },
  "language_info": {
   "codemirror_mode": {
    "name": "ipython",
    "version": 3
   },
   "file_extension": ".py",
   "mimetype": "text/x-python",
   "name": "python",
   "nbconvert_exporter": "python",
   "pygments_lexer": "ipython3",
   "version": "3.4.3"
  }
 },
 "nbformat": 4,
 "nbformat_minor": 0
}
