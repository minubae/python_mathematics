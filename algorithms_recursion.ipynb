{
 "cells": [
  {
   "cell_type": "markdown",
   "metadata": {},
   "source": [
    "# 05. Mathematical Algorithms - Recursion\n",
    "- Title: Mathematical Algorithms - Recursion in Python\n",
    "- Date: Oct/06/2015, Tuesday - Current\n",
    "- Author: Minwoo Bae (minubae.nyc@gmail.com)\n",
    "- Reference: http://wphooper.com/teaching/2015-fall-308/python/Recursion.html"
   ]
  },
  {
   "cell_type": "markdown",
   "metadata": {},
   "source": [
    "## Recursion\n",
    "Recursion is the process of repeating items in a self-similar way. For instance, when the surfaces of two mirrors are exactly parallel with each other, the nested images that occur are a form of infinite recursion. The term has a variety of meanings specific to a variety of disciplines ranging from linguistics to logic. The most common application of recursion is in mathematics and computer science, in which it refers to a method of defining functions in which the function being defined is applied within its own definition. Specifically, this defines an infinite number of instances (function values), using a finite expression that for some instances may refer to other instances, but in such a way that no loop or infinite chain of references can occur. The term is also used more generally to describe a process of repeating objects in a self-similar way.\n",
    "\n",
    "### Formal definitions \n",
    "In mathematics and computer science, a class of objects or methods exhibit recursive behavior when they can be defined by two properties:\n",
    "\n",
    "- A simple base case (or cases)—a terminating scenario that does not use recursion to produce an answer\n",
    "- A set of rules that reduce all other cases toward the base case\n",
    "\n",
    "For example, the following is a recursive definition of a person's ancestors:\n",
    "\n",
    "- One's parents are one's ancestors (base case).\n",
    "- The ancestors of one's ancestors are also one's ancestors (recursion step)."
   ]
  },
  {
   "cell_type": "code",
   "execution_count": 4,
   "metadata": {
    "collapsed": true
   },
   "outputs": [],
   "source": [
    "# One thing to be wary of is that a function that calls itself can potentially go into an infinite loop. \n",
    "# For example the simplest possible recursive function is a total disaster because it does not terminate:\n",
    "def dont_call_me():\n",
    "    dont_call_me()"
   ]
  },
  {
   "cell_type": "code",
   "execution_count": 5,
   "metadata": {
    "collapsed": true
   },
   "outputs": [],
   "source": [
    "# To solve this problem, your function needs to make sure that every case eventually reaches a base case \n",
    "# in which the function does not call itself. Here is a simple recursive function that does terminate \n",
    "# (as long as n is a small integer.)\n",
    "def call_me(n):\n",
    "    if n<=0:\n",
    "        print(\"Reached base case of n=\",n)\n",
    "    else:\n",
    "        print(\"Function called with n=\", n)\n",
    "        call_me(n-1)\n",
    "    print(\"Exiting call of function with n=\", n)"
   ]
  },
  {
   "cell_type": "code",
   "execution_count": 6,
   "metadata": {
    "collapsed": false
   },
   "outputs": [
    {
     "name": "stdout",
     "output_type": "stream",
     "text": [
      "Function called with n= 5\n",
      "Function called with n= 4\n",
      "Function called with n= 3\n",
      "Function called with n= 2\n",
      "Function called with n= 1\n",
      "Reached base case of n= 0\n",
      "Exiting call of function with n= 0\n",
      "Exiting call of function with n= 1\n",
      "Exiting call of function with n= 2\n",
      "Exiting call of function with n= 3\n",
      "Exiting call of function with n= 4\n",
      "Exiting call of function with n= 5\n"
     ]
    }
   ],
   "source": [
    "# Below, I call this function. Can you figure out what is happening?\n",
    "call_me(5) "
   ]
  },
  {
   "cell_type": "markdown",
   "metadata": {},
   "source": [
    "## Examples"
   ]
  },
  {
   "cell_type": "markdown",
   "metadata": {},
   "source": [
    "##01) Factorial \n",
    "The factorial operation is usually defined inductively by $0!=1$ and $n!=n∗(n−1)!$ for integers $n≥1.$ This translates into the following function definition: "
   ]
  },
  {
   "cell_type": "code",
   "execution_count": 7,
   "metadata": {
    "collapsed": true
   },
   "outputs": [],
   "source": [
    "def factorial(n):\n",
    "    if n==0:\n",
    "        return 1\n",
    "    return n*factorial(n-1)"
   ]
  },
  {
   "cell_type": "code",
   "execution_count": 8,
   "metadata": {
    "collapsed": false
   },
   "outputs": [
    {
     "name": "stdout",
     "output_type": "stream",
     "text": [
      "0! = 1.\n",
      "1! = 1.\n",
      "2! = 2.\n",
      "3! = 6.\n",
      "4! = 24.\n",
      "5! = 120.\n",
      "6! = 720.\n"
     ]
    }
   ],
   "source": [
    "for n in range(7):\n",
    "    print(n, \"! = \", factorial(n), \".\", sep=\"\")"
   ]
  },
  {
   "cell_type": "markdown",
   "metadata": {},
   "source": [
    "##02) Pascal's triangle\n",
    "Consider a polynomial $p(t)=a_{k}t^k+a_{k−1}t^{k−1}+\\dots+a_{1}t+a_0.$ Observe that\n",
    "\n",
    "$$(t+1)p(t)=a_{k}t^{k+1}+(a_k+a_{k−1})t^k+(a_{k−1}+a_{k−2})t^{k−1}+\\dots+(a_0+a_1)t+a_0.$$\n",
    " \n",
    "We can define a sequence of polynomials by $q0=1$ and inductively defining  q_{n+1}(t)=(t+1)q_{n}(t) for integers $n\\geq0.$ Then each $q_{n}(t)$ is a polynomial of degree $n.$ We define a_{n,k} to be the coefficient of the  $t^k$ term of the polynomial $q_n(t).$ When arranged into a rectangular array, these numbers are known as Pascal's triangle.\n",
    "\n",
    "<b>Problem:</b> Write a recursive function pascals_triangle(n,k) which returns  $a_{n,k}$ when provided an integer $n\\geq0$ and an integer $k$  satisfying $0\\leq k \\leq n.$\n",
    "\n",
    "To do this, first observe that the constant term of $q_n(t)$ is always one, as is the coefficient of $t^n$ in $q_{n}(t).$ That is, $q_{n,0} = 1$ and $q_{n,n} = 1$ for all integers $n\\geq0.$<br>\n",
    "\n",
    "Second, using the formula relating the coefficients for $(t+1)p(t)$ to the coefficients for $p(t)$ above, we see that $a_{n,k}=a_{n−1,k−1}+a_{n−1,k}$ when  $0<k<n.$<br>\n",
    "\n",
    "The following function satisfies the requirements above."
   ]
  },
  {
   "cell_type": "code",
   "execution_count": 9,
   "metadata": {
    "collapsed": true
   },
   "outputs": [],
   "source": [
    "def pascals_triangle(n,k):\n",
    "    if k==0 or k==n:\n",
    "        return 1\n",
    "    return pascals_triangle(n-1,k-1)+pascals_triangle(n-1,k)"
   ]
  },
  {
   "cell_type": "code",
   "execution_count": 10,
   "metadata": {
    "collapsed": false
   },
   "outputs": [
    {
     "name": "stdout",
     "output_type": "stream",
     "text": [
      "[1]\n",
      "[1, 1]\n",
      "[1, 2, 1]\n",
      "[1, 3, 3, 1]\n",
      "[1, 4, 6, 4, 1]\n",
      "[1, 5, 10, 10, 5, 1]\n",
      "[1, 6, 15, 20, 15, 6, 1]\n",
      "[1, 7, 21, 35, 35, 21, 7, 1]\n",
      "[1, 8, 28, 56, 70, 56, 28, 8, 1]\n",
      "[1, 9, 36, 84, 126, 126, 84, 36, 9, 1]\n"
     ]
    }
   ],
   "source": [
    "# The following prints out the coefficients of  (t+1)n(t+1)n  \n",
    "# in successive lists:\n",
    "for n in range(10):\n",
    "    l=[]\n",
    "    for k in range(n+1):\n",
    "        l.append(pascals_triangle(n,k))\n",
    "    print(l)"
   ]
  },
  {
   "cell_type": "markdown",
   "metadata": {},
   "source": [
    "The above is Pascal's triangle. You can read more about this in Wikipedia's article on <a href=\"https://en.wikipedia.org/wiki/Pascal%27s_triangle\" target=\"_blank\">Pascal's triangle</a>. Pascal's triangle is pretty neat. For instance, the locations of the odd integers in the triangle are related to the Sierpinski gasket (a fractal).<br>\n",
    "\n",
    "<b>Remark:</b> The definition of Pascal's triangle is pretty slow. You can see this because if you think about the algorithm, to compute the 126 in the bottom row, we are adding 126 ones! There is a much faster version: <br>\n",
    "$$a_{n,k}=\\frac{n!}{k!(n−k)!}.$$\n"
   ]
  },
  {
   "cell_type": "markdown",
   "metadata": {},
   "source": [
    "##03) Expansion of a number in base b\n",
    "Let $b\\geq2$ be an integer. Then any natural number $n$ has an expansion in base $b.$ This is the unique finite sequence of numbers $[a_0,a_1,\\dots,a_k]$  so that\n",
    "- each  $a_i \\in \\mathbb{Z}$ with $0\\leq a_i<b,$\n",
    "- $a_k\\neq0,$ and\n",
    "- $n=\\displaystyle\\sum_{i} a_{i} \\cdot b^{i}.$\n",
    "\n",
    "You are very familiar with base $10.$ The expansion of the number $123$ in base  $10$ is $a_0=3$, $a_1=2$ and $a3=1$ because <br>\n",
    "$$123=3 \\cdot 10^0+2 \\cdot 10^1+1 \\cdot 10^2.$$\n",
    "\n",
    "We will explain how to solve the following problem: Give a function expansion(n,b) which returns the list $[a_0,a_1,\\dots,a_k]$  representing the expansion of an integer $n\\geq1$ in base $b,$ where  $b\\geq2$ is an integer.\n",
    "\n",
    "There are multiple ways to do this. One way is recursive. Suppose the expansion of $n$ is $[a_0,\\dots,a_k]$ and $k>0.$ Then <br>\n",
    "$$n=\\displaystyle\\sum_{i}^k a_{i} \\cdot b^{i} = a_0 + b\\bigg(\\displaystyle\\sum_{i}^{k-1} a_i \\cdot b^i \\bigg).$$\n",
    "\n",
    "This shows two important things. First, $a_0$ is the remainder obtained when dividing  $n$ by $b$, i.e., $a0=n.$ Second, the sum in parenthesis above represents $\\frac{n−a_0}{b}.$ The sum in these parentheses gives the expansion of this number. We need a base case for the recursion. We can use the fact that if $n<b$ then the expansion is just $[n].$"
   ]
  },
  {
   "cell_type": "code",
   "execution_count": 11,
   "metadata": {
    "collapsed": true
   },
   "outputs": [],
   "source": [
    "def expansion(n,b):\n",
    "    if n<b:\n",
    "        return [n]\n",
    "    a0 = n%b\n",
    "    lst=expansion((n-a0)//b, b)\n",
    "    lst.insert(0,a0)\n",
    "    return lst"
   ]
  },
  {
   "cell_type": "code",
   "execution_count": 12,
   "metadata": {
    "collapsed": false
   },
   "outputs": [
    {
     "data": {
      "text/plain": [
       "[3, 2, 1]"
      ]
     },
     "execution_count": 12,
     "metadata": {},
     "output_type": "execute_result"
    }
   ],
   "source": [
    "expansion(123,10)"
   ]
  },
  {
   "cell_type": "code",
   "execution_count": 13,
   "metadata": {
    "collapsed": false
   },
   "outputs": [
    {
     "data": {
      "text/plain": [
       "[1, 0, 1]"
      ]
     },
     "execution_count": 13,
     "metadata": {},
     "output_type": "execute_result"
    }
   ],
   "source": [
    "expansion(5,2)"
   ]
  },
  {
   "cell_type": "markdown",
   "metadata": {},
   "source": [
    "##04) Towers of Hanoi\n",
    "\n",
    "The <b>Tower of Hanoi</b> (also called the <b>Tower of Brahma</b> or <b>Lucas' Tower</b>, and sometimes pluralized) is a mathematical game or puzzle. It consists of three rods, and a number of disks of different sizes which can slide onto any rod. The puzzle starts with the disks in a neat stack in ascending order of size on one rod, the smallest at the top, thus making a conical shape.\n",
    "\n",
    "The objective of the puzzle is to move the entire stack to another rod, obeying the following simple rules:\n",
    "\n",
    "- Only one disk can be moved at a time.\n",
    "- Each move consists of taking the upper disk from one of the stacks and placing it on top of another stack i.e. a disk can only be moved if it is the uppermost disk on a stack.\n",
    "- No disk may be placed on top of a smaller disk.\n",
    "\n",
    "With three disks, the puzzle can be solved in seven moves. The minimum number of moves required to solve a Tower of Hanoi puzzle is $2^n - 1,$ where $n$ is the number of disks."
   ]
  },
  {
   "cell_type": "markdown",
   "metadata": {},
   "source": [
    "##05) The Catalan Numbers\n",
    "In combinatorial mathematics, the Catalan numbers form a sequence of natural numbers that occur in various counting problems, often involving recursively-defined objects. They are named after the Belgian mathematician Eugène Charles Catalan (1814–1894).\n",
    "\n",
    "Using zero-based numbering, the nth Catalan number is given directly in terms of binomial coefficients by\n",
    "\n",
    "$$C_n = \\frac{1}{n+1}{2n\\choose n} = \\frac{(2n)!}{(n+1)!\\,n!} = \\prod\\limits_{k=2}^{n}\\frac{n+k}{k} \\qquad\\mbox{ for }n\\ge 0.$$\n",
    " \n",
    " \n",
    "The first Catalan numbers for n = 0, 1, 2, 3, … are\n",
    "\n",
    "1, 1, 2, 5, 14, 42, 132, 429, 1430, 4862, 16796, 58786, 208012, 742900, 2674440, 9694845, 35357670, 129644790, 477638700, 1767263190, 6564120420, 24466267020, 91482563640, 343059613650, 1289904147324, 4861946401452, … \n",
    "\n",
    "They also satisfy: \n",
    "\n",
    "$$C_0=1 \\space\\space and \\space\\space C_{n+1}=\\frac{2(2n+1)}{n+2}C_n \\space\\space for \\space\\space integers \\space\\space  n\\geq 0.$$\n",
    "\n",
    "Define a recursive function catalan(n) which takes as input an integer  $i\\geq0$ and returns the Catalan number $C_i.$ (The Catalan numbers first appeared as an exercise in the page on Lists.)\n",
    "\n",
    "<b>Remark:</b> Wikipedia has a discussion of this in their article on <a href=\"https://en.wikipedia.org/wiki/Catalan_number\" target=\"_blank\">the Catalan numbers</a>."
   ]
  },
  {
   "cell_type": "code",
   "execution_count": 14,
   "metadata": {
    "collapsed": true
   },
   "outputs": [],
   "source": [
    "def catalan(n):\n",
    "    if n == 0:\n",
    "        return 1\n",
    "    return catalan(n-1)*(2*(2*n+1)/(n+2))"
   ]
  },
  {
   "cell_type": "code",
   "execution_count": 15,
   "metadata": {
    "collapsed": false
   },
   "outputs": [
    {
     "data": {
      "text/plain": [
       "58786.0"
      ]
     },
     "execution_count": 15,
     "metadata": {},
     "output_type": "execute_result"
    }
   ],
   "source": [
    "catalan(10)"
   ]
  },
  {
   "cell_type": "markdown",
   "metadata": {},
   "source": [
    "##06) Multiplication using Addition\n",
    "Write a recursive function multiply(m,n) which takes as input two integers  mm  and  $n,$ and returns their product $m∗n$ only using addition and subtraction. Hints:\n",
    "\n",
    "$$m∗0=0,m∗n=m∗(n−1)+m \\space\\space and \\space\\space m∗n=m∗(n+1)−m.$$\n",
    "\n",
    "<b>Remark:</b> Your function should work for all integers."
   ]
  },
  {
   "cell_type": "code",
   "execution_count": 19,
   "metadata": {
    "collapsed": true
   },
   "outputs": [],
   "source": [
    "def multiply(m,n):\n",
    "    try:\n",
    "        if n==0:\n",
    "            return 0\n",
    "        elif n==1:\n",
    "            return m\n",
    "        elif n < 0:\n",
    "            return  multiply(m, n+1) - m\n",
    "        else:\n",
    "            return multiply(m, n-1) + m\n",
    "    except Exception as error:\n",
    "        return error"
   ]
  },
  {
   "cell_type": "code",
   "execution_count": 20,
   "metadata": {
    "collapsed": false
   },
   "outputs": [
    {
     "data": {
      "text/plain": [
       "6"
      ]
     },
     "execution_count": 20,
     "metadata": {},
     "output_type": "execute_result"
    }
   ],
   "source": [
    "multiply(3,2)"
   ]
  },
  {
   "cell_type": "code",
   "execution_count": 21,
   "metadata": {
    "collapsed": false
   },
   "outputs": [
    {
     "data": {
      "text/plain": [
       "-30"
      ]
     },
     "execution_count": 21,
     "metadata": {},
     "output_type": "execute_result"
    }
   ],
   "source": [
    "multiply(-3,10)"
   ]
  },
  {
   "cell_type": "markdown",
   "metadata": {},
   "source": [
    "##07) Greatest Common Divisor\n",
    "Write a recursive function gcd(m,n) which returns the greatest common divisor of integers $m\\geq0$ and $n\\geq0$ (not both zero). Use the following observations:\n",
    "- $gcd(m,n)=gcd(n,m)$ for all $m$ and $n.$\n",
    "- $gcd(0,n)=n$ when $n>0.$\n",
    "- $gcd(m,n)=gcd(n%m,m)$ whenever $0 < m \\leq n.$\n"
   ]
  },
  {
   "cell_type": "code",
   "execution_count": 22,
   "metadata": {
    "collapsed": true
   },
   "outputs": [],
   "source": [
    "def gcd(m,n):\n",
    "    if m==0:\n",
    "        return n\n",
    "    elif m>n:\n",
    "        return gcd(m%n,n)\n",
    "    return gcd(n%m, m)"
   ]
  },
  {
   "cell_type": "code",
   "execution_count": 23,
   "metadata": {
    "collapsed": false
   },
   "outputs": [
    {
     "data": {
      "text/plain": [
       "2"
      ]
     },
     "execution_count": 23,
     "metadata": {},
     "output_type": "execute_result"
    }
   ],
   "source": [
    "gcd(10,6)"
   ]
  },
  {
   "cell_type": "code",
   "execution_count": 25,
   "metadata": {
    "collapsed": false
   },
   "outputs": [
    {
     "data": {
      "text/plain": [
       "4"
      ]
     },
     "execution_count": 25,
     "metadata": {},
     "output_type": "execute_result"
    }
   ],
   "source": [
    "gcd(12,32)"
   ]
  },
  {
   "cell_type": "markdown",
   "metadata": {},
   "source": [
    "##08) Iteration of a Function\n",
    "Suppose $f:\\mathbb{R} \\to \\mathbb{R}.$ Then, we define $f^{\\circ k}$ to be $f$  applied $k \\in \\mathbb{N}$ times:\n",
    "\n",
    "$$f^{\\circ k}(x)=f \\circ f \\circ \\dots \\circ f^k(x)$$\n",
    "\n",
    "for $x\\in\\mathbb{R}.$ Write a recursive function iterate(f,k,x) which takes as input a function $f:\\mathbb{R} \\to \\mathbb{R}$, a natural number  $k,$ and a floating point number $x$ and returns the value of  $f^{\\circ k}(x).$"
   ]
  },
  {
   "cell_type": "code",
   "execution_count": 26,
   "metadata": {
    "collapsed": true
   },
   "outputs": [],
   "source": [
    "def iterate(f,k,x):\n",
    "    try:\n",
    "        if k > 0:\n",
    "            if k==1:\n",
    "                return f(x)\n",
    "            return iterate(f,k-1,f(x))\n",
    "        else:\n",
    "            return 'k is not greater than 1'\n",
    "    except Exception as error:\n",
    "        return error"
   ]
  },
  {
   "cell_type": "code",
   "execution_count": 27,
   "metadata": {
    "collapsed": false
   },
   "outputs": [
    {
     "data": {
      "text/plain": [
       "2.143588810000001"
      ]
     },
     "execution_count": 27,
     "metadata": {},
     "output_type": "execute_result"
    }
   ],
   "source": [
    "g = lambda x: x**2\n",
    "h = lambda x: 2*x*(1-x)\n",
    "iterate(g,3,1.1)"
   ]
  },
  {
   "cell_type": "code",
   "execution_count": 29,
   "metadata": {
    "collapsed": false
   },
   "outputs": [
    {
     "data": {
      "text/plain": [
       "0.5"
      ]
     },
     "execution_count": 29,
     "metadata": {},
     "output_type": "execute_result"
    }
   ],
   "source": [
    "iterate(h,100,0.25)"
   ]
  },
  {
   "cell_type": "markdown",
   "metadata": {},
   "source": [
    "##09) The Cantor Set\n",
    "In mathematics, the Cantor set is a set of points lying on a single line segment that has a number of remarkable and deep properties. It was discovered in 1874 by Henry John Stephen Smith and introduced by German mathematician Georg Cantor in 1883.\n",
    "\n",
    "Through consideration of this set, Cantor and others helped lay the foundations of modern point-set topology. Although Cantor himself defined the set in a general, abstract way, the most common modern construction is the Cantor ternary set, built by removing the middle thirds of a line segment. Cantor himself only mentioned the ternary construction in passing, as an example of a more general idea, that of a perfect set that is nowhere dense.\n",
    "\n",
    "\n",
    "\n",
    "<b>Remark:</b> Wikipedia has a discussion of this in their article on <a href=\"https://en.wikipedia.org/wiki/Cantor_set\" target=\"_blank\">the Cantor Set</a>."
   ]
  },
  {
   "cell_type": "code",
   "execution_count": null,
   "metadata": {
    "collapsed": true
   },
   "outputs": [],
   "source": []
  }
 ],
 "metadata": {
  "kernelspec": {
   "display_name": "Python 3",
   "language": "python",
   "name": "python3"
  },
  "language_info": {
   "codemirror_mode": {
    "name": "ipython",
    "version": 3
   },
   "file_extension": ".py",
   "mimetype": "text/x-python",
   "name": "python",
   "nbconvert_exporter": "python",
   "pygments_lexer": "ipython3",
   "version": "3.4.3"
  }
 },
 "nbformat": 4,
 "nbformat_minor": 0
}
