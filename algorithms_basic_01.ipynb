{
 "cells": [
  {
   "cell_type": "markdown",
   "metadata": {},
   "source": [
    "# 01. Mathematical Algorithms - Basics\n",
    "- Title: Mathematical Algorithms Basics in Python\n",
    "- Date: Oct/06/2015, Tuesday - Current\n",
    "- Author: Minwoo Bae (minubae.nyc@gmail.com)\n",
    "- Reference: http://wphooper.com/teaching/2015-fall-308/python/Numbers.html"
   ]
  },
  {
   "cell_type": "markdown",
   "metadata": {},
   "source": [
    "## 01) Find Divisors of a Natural Number P\n",
    "Suppose  p  and  $n\\neq0$  are integers. We call  n a divisor of  p  if  $\\frac{p}{n}$  is an integer (or equivalently if  n  divides  p  with zero remainder). Write a function print_divisors(p) which takes as input an integer  $p\\geq1$  and prints all its positive divisors."
   ]
  },
  {
   "cell_type": "code",
   "execution_count": 44,
   "metadata": {
    "collapsed": false
   },
   "outputs": [
    {
     "name": "stdout",
     "output_type": "stream",
     "text": [
      "Divisor:  [1, 2, 4, 5, 10, 20, 25, 50]\n"
     ]
    }
   ],
   "source": [
    "# Using while_statement\n",
    "def print_divisor_01(p):\n",
    "    i=1\n",
    "    temp=list()\n",
    "    while i < p:\n",
    "        if p%i == 0:\n",
    "            temp.append(i)\n",
    "        i += 1\n",
    "    return temp\n",
    "print('Divisor: ', print_divisor_01(100))"
   ]
  },
  {
   "cell_type": "code",
   "execution_count": 45,
   "metadata": {
    "collapsed": false
   },
   "outputs": [
    {
     "name": "stdout",
     "output_type": "stream",
     "text": [
      "Divisor:  [1, 2, 4, 5, 10, 20, 25, 50]\n"
     ]
    }
   ],
   "source": [
    "# Using for_statement\n",
    "def print_divisor_02(p):\n",
    "    temp=list()\n",
    "    for i in range(1,p):\n",
    "        if p%i == 0:\n",
    "            temp.append(i)\n",
    "\n",
    "print('Divisor: ', print_divisor_01(100))"
   ]
  },
  {
   "cell_type": "markdown",
   "metadata": {},
   "source": [
    "##02) Find a Factorial  of a Non-negative Integer N\n",
    "In mathematics, the factorial of a non-negative integer n, denoted by n!, is the product of all positive integers less than or equal to n. For example, $$5! = 5  \\times  4  \\times  3  \\times  2  \\times  1 = 120.  \\ $$\n",
    "Write a function factorial(n) which takes as input a positive integer n and return n!."
   ]
  },
  {
   "cell_type": "code",
   "execution_count": 24,
   "metadata": {
    "collapsed": false
   },
   "outputs": [
    {
     "name": "stdout",
     "output_type": "stream",
     "text": [
      "factorial:  120\n"
     ]
    }
   ],
   "source": [
    "# Using while_statement\n",
    "def factorial_01(n):\n",
    "    i = 1\n",
    "    fact = 1\n",
    "    if n==0 or n==1:\n",
    "        return 1\n",
    "    while i<=n:\n",
    "        fact = fact*i\n",
    "        i+=1\n",
    "    return fact\n",
    "\n",
    "print('factorial: ', factorial_01(5))"
   ]
  },
  {
   "cell_type": "code",
   "execution_count": 25,
   "metadata": {
    "collapsed": false
   },
   "outputs": [
    {
     "name": "stdout",
     "output_type": "stream",
     "text": [
      "factorial:  120\n"
     ]
    }
   ],
   "source": [
    "# Using for_statement\n",
    "def factorial_02(n):\n",
    "    fact = 1\n",
    "    if n==0 or n==1:\n",
    "        return 1\n",
    "    for i in range(1,n+1):\n",
    "        fact = fact*i\n",
    "    return fact\n",
    "\n",
    "print('factorial: ', factorial_02(5))"
   ]
  },
  {
   "cell_type": "code",
   "execution_count": 28,
   "metadata": {
    "collapsed": false
   },
   "outputs": [
    {
     "name": "stdout",
     "output_type": "stream",
     "text": [
      "factorial:  120\n"
     ]
    }
   ],
   "source": [
    "# Using recursion\n",
    "def factorial_03(n):\n",
    "    if n==0 or n==1:\n",
    "        return 1\n",
    "    fact = factorial_03(n-1) * n\n",
    "    return fact\n",
    "\n",
    "print('factorial: ', factorial_03(5))"
   ]
  },
  {
   "cell_type": "markdown",
   "metadata": {},
   "source": [
    "##03) Is_Square(n), n is a Non-negative Integer Number\n",
    "Write a function called is_square(n) which takes as input a integer  n  and returns truth-value of the statement \"There is an integer  k  so that  $n=k^2$.\""
   ]
  },
  {
   "cell_type": "code",
   "execution_count": 33,
   "metadata": {
    "collapsed": false
   },
   "outputs": [
    {
     "name": "stdout",
     "output_type": "stream",
     "text": [
      "is_square: True\n",
      "is_square: False\n"
     ]
    }
   ],
   "source": [
    "# Using for_statement\n",
    "def is_square(n):\n",
    "    for i in range(n):\n",
    "        if i**2 == n:\n",
    "            return True\n",
    "    return False\n",
    "\n",
    "print('is_square:', is_square(16))\n",
    "print('is_square:', is_square(18))"
   ]
  },
  {
   "cell_type": "code",
   "execution_count": 32,
   "metadata": {
    "collapsed": false
   },
   "outputs": [
    {
     "name": "stdout",
     "output_type": "stream",
     "text": [
      "is_square: True\n",
      "is_square: False\n"
     ]
    }
   ],
   "source": [
    "# Using while_statement\n",
    "def is_square_02(n):\n",
    "    i==1\n",
    "    while i<=n:\n",
    "        if i**2 == n:\n",
    "            return True\n",
    "        i+=1\n",
    "    return False\n",
    "\n",
    "print('is_square:', is_square(16))\n",
    "print('is_square:', is_square(18))"
   ]
  },
  {
   "cell_type": "markdown",
   "metadata": {},
   "source": [
    "##04) Sum of Cubes of a Positive Integer n\n",
    "Write a function called sum_of_cubes(n) which takes as input a positive integer  n  and returns the sum. \n",
    "$$1^3+2^3+3^3+…+n^3=\\displaystyle\\sum_{j=1}^{n} j^3$$"
   ]
  },
  {
   "cell_type": "code",
   "execution_count": 37,
   "metadata": {
    "collapsed": false
   },
   "outputs": [
    {
     "name": "stdout",
     "output_type": "stream",
     "text": [
      "Sum of Cubes :  3025\n"
     ]
    }
   ],
   "source": [
    "def sum_of_cubes(n):\n",
    "        temp = 0\n",
    "        num = n+1\n",
    "        for i in range(1, num):\n",
    "                temp = temp + i**3\n",
    "        return temp\n",
    "    \n",
    "print('Sum of Cubes : ', sum_of_cubes(10))"
   ]
  },
  {
   "cell_type": "markdown",
   "metadata": {},
   "source": [
    "##05) Find a Slope of a Secant Line\n",
    "Functions can be passed to functions which allows them to solve more general problems. The following function secant_slope will take as input a real valued function  $f:\\mathbb{ℝ}\\to \\mathbb{ℝ}$ and two input values  x1  and  x2  and produce the slope of the associated secant line (the line joining  (x1, f(x1))  to  (x1, f(x1)) )."
   ]
  },
  {
   "cell_type": "code",
   "execution_count": 39,
   "metadata": {
    "collapsed": false,
    "scrolled": true
   },
   "outputs": [
    {
     "name": "stdout",
     "output_type": "stream",
     "text": [
      "The slope of the secant line is -0.37292322857805654\n"
     ]
    }
   ],
   "source": [
    "import math\n",
    "def secant_slope(f, x1, x2):\n",
    "    return (f(x1)-f(x2))/(x1-x2)\n",
    "print(\"The slope of the secant line is\", secant_slope(math.cos, 0, math.pi/4))"
   ]
  },
  {
   "cell_type": "markdown",
   "metadata": {},
   "source": [
    "##06) Find an Area of a Triangle from its Three Side Lengths\n",
    "The following function computes the area of a triangle from its three side lengths. This is the semiperimeter formula for area of a triangle.  $\\textbf{Heron's formula}$ states that the area of a triangle whose sides have lengths a, b, and c is: \n",
    "$$A=\\sqrt{s(s-a)(s-b)(s-c)}, \\space\\space where \\space\\space s=\\frac{a+b+c}{2}$$"
   ]
  },
  {
   "cell_type": "code",
   "execution_count": 40,
   "metadata": {
    "collapsed": false
   },
   "outputs": [
    {
     "name": "stdout",
     "output_type": "stream",
     "text": [
      "The area of the the 3-4-5 right triangle is 6.0\n",
      "The area of the equilateral triangle with side length one is 0.4330127018922193\n"
     ]
    }
   ],
   "source": [
    "import math\n",
    "def area(a,b,c):\n",
    "    s=(a+b+c)/2\n",
    "    return math.sqrt(s*(s-a)*(s-b)*(s-c))\n",
    "\n",
    "print(\"The area of the the 3-4-5 right triangle is\", area(3,4,5))\n",
    "print(\"The area of the equilateral triangle with side length one is\", area(1,1,1))"
   ]
  },
  {
   "cell_type": "markdown",
   "metadata": {
    "collapsed": true
   },
   "source": [
    "##07) Check that a Natural Number p is a Prime Number\n",
    "An integer $p\\geq2$ is prime if the only positive divisors of p are itself and one. Write a function is_prime(p) which takes as input an integer  $p\\geq2$ and returns True if p is prime and False if p is not prime."
   ]
  },
  {
   "cell_type": "code",
   "execution_count": 19,
   "metadata": {
    "collapsed": false
   },
   "outputs": [
    {
     "name": "stdout",
     "output_type": "stream",
     "text": [
      "Is the number a prime number:  True\n",
      "Is the number a prime number:  False\n"
     ]
    }
   ],
   "source": [
    "def is_prime(p):\n",
    "    if p < 2:\n",
    "        return False\n",
    "    else:\n",
    "        for i in range(2,p-1):\n",
    "            if p%i == 0:\n",
    "                return False\n",
    "            else:\n",
    "                return True\n",
    "\n",
    "print('Is the number a prime number: ', is_prime(7))\n",
    "print('Is the number a prime number: ', is_prime(12))"
   ]
  },
  {
   "cell_type": "markdown",
   "metadata": {},
   "source": [
    "##08) A Root finding Algorithm with the Newton's Method\n",
    "Newton's method is a very efficient way to find a root of a differentiable function $f$ starting with a point near the root. The method gives a sequence  $x_0,x_1,x_2,\\dots$ of numbers which rapidly approach the root if the initial point is sufficiently close to the root. The value  $x_0$ is the starting point. Given  $x_k$ the value of  $x_{k+1}$  by intersecting the  $x-axis$ with tangent line to the graph of f at the point  $(x_k,f(x_k))$. That is,\n",
    "$$x_{k+1} = x_k - \\frac{f(x_k)}{f'(x_k)}$$ An illustration of this process is shown at the end of this question.\n",
    "Write a function newtons_method$(f,df,x_0,n)$ which takes as input a function  $f:\\mathbb{ℝ}\\to \\mathbb{ℝ}$, its derivative  $df=f′$(also a function from  $\\mathbb{ℝ}$ to $\\mathbb{ℝ}$ ), an initial point $x_0$ and an integer  $n\\geq1$. The function should return the value  $x_n$ obtained by iterating Newton's method n times."
   ]
  },
  {
   "cell_type": "code",
   "execution_count": 22,
   "metadata": {
    "collapsed": false
   },
   "outputs": [
    {
     "name": "stdout",
     "output_type": "stream",
     "text": [
      "A root by the Newtons Method is  1.414213562373095\n",
      "A root by the Newtons Method is  1.414213562373095\n"
     ]
    }
   ],
   "source": [
    "def f(x):\n",
    "    return 2-x**2\n",
    "\n",
    "def df(x):\n",
    "    return -2*x\n",
    "\n",
    "# Using while_statement\n",
    "def newtons_method(f, df, x0, n):\n",
    "    i = 1\n",
    "    while i <= n:\n",
    "        if df(x0) == 0:\n",
    "            return x0\n",
    "        x = x0 - f(x0)/df(x0)\n",
    "        x0 = x\n",
    "        i+=1\n",
    "    return x\n",
    "\n",
    "# Using for_statement\n",
    "def newtons_method_01(f, df, x0, n):\n",
    "    for i in range(1, n+1):\n",
    "        if df(x0) == 0:\n",
    "            return x0\n",
    "        x = x0 - f(x0)/df(x0)\n",
    "        x0 = x\n",
    "    return x\n",
    "\n",
    "print('A root by the Newtons Method is ', newtons_method(f , df , 3, 10))\n",
    "print('A root by the Newtons Method is ', newtons_method_01(f , df , 3, 10))"
   ]
  },
  {
   "cell_type": "markdown",
   "metadata": {},
   "source": [
    "##09) Write an Algorithms of The Collatz Conjecture\n",
    "The Collatz conjecture can be summarized as follows. Take any natural number $n$. If n is even, divide it by 2 to get $\\frac{n}{2}$. If n is odd, multiply it by 3 and add 1 to obtain $3n + 1$. Repeat the process (which has been called \"Half Or Triple Plus One\", or HOTPO[6]) indefinitely. The conjecture is that no matter what number you start with, you will always eventually reach 1. The property has also been called oneness. In modular arithmetic notation, define the function f as follows: \n",
    "$$f(n) =\n",
    "  \\begin{cases}\n",
    "    n/2   & \\quad \\text{if } n \\equiv 0 \\space \\text{(mod 2)}\\\\\n",
    "    3n+1  & \\quad \\text{if } n \\equiv 1 \\space \\text{(mod 2)}\\\\\n",
    "  \\end{cases}\n",
    "$$"
   ]
  },
  {
   "cell_type": "code",
   "execution_count": 2,
   "metadata": {
    "collapsed": false
   },
   "outputs": [
    {
     "name": "stdout",
     "output_type": "stream",
     "text": [
      "A list of the Collatz conjecture: \n",
      "[304, 152, 76, 38, 19, 58, 29, 88, 44, 22, 11, 34, 17, 52, 26, 13, 40, 20, 10, 5, 16, 8, 4, 2, 1]\n"
     ]
    }
   ],
   "source": [
    "def collatz(n):\n",
    "    temp = list()\n",
    "    while n!=1:\n",
    "        if n%2==0:        \n",
    "            n = n//2\n",
    "            temp.append(n) \n",
    "        else:\n",
    "            n = 3*n+1\n",
    "            temp.append(n) \n",
    "\n",
    "    return temp\n",
    "\n",
    "print('A list of the Collatz conjecture: ')\n",
    "print(collatz(101))"
   ]
  },
  {
   "cell_type": "markdown",
   "metadata": {},
   "source": [
    "##10) Approximate a definite integral of a real valued function\n",
    "An approximation to a definite integral of a real valued function is\n",
    "$$\\int_a^b f(x)dx \\approx \\frac{b-a}{n} \\displaystyle\\sum_{i=0}^{n-1} f\\left(a+\\frac{i(b-a)}{n}\\right)$$\n",
    "for large values of  $n$. Here is a function which evaluates this sum on an arbitrary function."
   ]
  },
  {
   "cell_type": "code",
   "execution_count": 41,
   "metadata": {
    "collapsed": false
   },
   "outputs": [
    {
     "name": "stdout",
     "output_type": "stream",
     "text": [
      "Approximation of the definite integral:  1.9998355038874436\n",
      "Approximation of the definite integral:  1.9998355038874436\n"
     ]
    }
   ],
   "source": [
    "import math\n",
    "\n",
    "# Using while_statement\n",
    "def approximate_integral(f, a, b, n):\n",
    "    h = (b-a)/n\n",
    "    i = 0\n",
    "    sum = 0\n",
    "    while i<n:\n",
    "        sum = sum + f(a+i*(b-a)/n)\n",
    "        i += 1\n",
    "    return sum * (b-a) / n\n",
    "\n",
    "# Using for_statement\n",
    "def approximate_integral_01(f, a, b, n):\n",
    "    h = (b-a)/n\n",
    "    sum = 0\n",
    "    for i in range(n):\n",
    "        sum = sum + f(a+i*(b-a)/n)\n",
    "    return sum * (b-a) / n\n",
    "\n",
    "print('Approximation of the definite integral: ',approximate_integral(math.sin, 0, math.pi, 100))\n",
    "print('Approximation of the definite integral: ',approximate_integral_01(math.sin, 0, math.pi, 100))"
   ]
  }
 ],
 "metadata": {
  "kernelspec": {
   "display_name": "Python 3",
   "language": "python",
   "name": "python3"
  },
  "language_info": {
   "codemirror_mode": {
    "name": "ipython",
    "version": 3
   },
   "file_extension": ".py",
   "mimetype": "text/x-python",
   "name": "python",
   "nbconvert_exporter": "python",
   "pygments_lexer": "ipython3",
   "version": "3.4.3"
  }
 },
 "nbformat": 4,
 "nbformat_minor": 0
}
